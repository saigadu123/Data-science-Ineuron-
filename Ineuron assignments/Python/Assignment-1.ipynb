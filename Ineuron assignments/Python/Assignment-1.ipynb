{
 "cells": [
  {
   "cell_type": "code",
   "execution_count": null,
   "id": "c926c824",
   "metadata": {},
   "outputs": [],
   "source": [
    "1. In the below elements which of them are values or an expression? eg:- values can be integer or string and expressions will be mathematical operators.\n",
    "\n",
    "*  =It is an operator\n",
    "\n",
    "'hello' = It is a value\n",
    "\n",
    "-87.8 = It is a value\n",
    "- = It is an Operator\n",
    "/ = It is an operator\n",
    "\n",
    "\n",
    "6 = It is a value\n",
    "\n"
   ]
  },
  {
   "cell_type": "code",
   "execution_count": null,
   "id": "afea1483",
   "metadata": {},
   "outputs": [],
   "source": [
    "2. What is the difference between string and variable?\n",
    "\n",
    "Ans : Variable -> It is an entity to hold any type of data.\n",
    "      string -> It is a group of characters written in double quotes or single quotes."
   ]
  },
  {
   "cell_type": "code",
   "execution_count": null,
   "id": "ad1e62f5",
   "metadata": {},
   "outputs": [],
   "source": [
    "3. Describe three different data types.\n",
    "\n",
    "Ans : Integer->A type of numerical value which is either positive or negative.\n",
    "      Float -> A decimal type numerical values.\n",
    "      Boolean ->A value either true or false.\n"
   ]
  },
  {
   "cell_type": "code",
   "execution_count": null,
   "id": "3eb3f3b2",
   "metadata": {},
   "outputs": [],
   "source": [
    "4. What is an expression made up of? What do all expressions do?\n",
    "\n",
    "Ans: An expression is made up of variables and operators.An expressions used to find out the values using variable values and        operators."
   ]
  },
  {
   "cell_type": "code",
   "execution_count": null,
   "id": "8924bcea",
   "metadata": {},
   "outputs": [],
   "source": [
    "5. This assignment statements, like spam = 10. What is the difference between an expression and a statement?\n",
    "\n",
    "Ans : An expression consists of variables and operators gives values.\n",
    "     A statement is assigning a value to the variable."
   ]
  },
  {
   "cell_type": "code",
   "execution_count": null,
   "id": "573c000e",
   "metadata": {},
   "outputs": [],
   "source": [
    "6. After running the following code, what does the variable bacon contain?\n",
    "bacon = 22\n",
    "bacon + 1\n",
    "\n",
    "Ans : The bacon value is 22."
   ]
  },
  {
   "cell_type": "code",
   "execution_count": null,
   "id": "2ddd5fce",
   "metadata": {},
   "outputs": [],
   "source": [
    "7. What should the values of the following two terms be?\n",
    "'spam' + 'spamspam'\n",
    "'spam' * 3\n",
    "\n",
    "Ans : 1)spamspamspam\n",
    "      2)spamspamspam\n",
    "      "
   ]
  },
  {
   "cell_type": "code",
   "execution_count": null,
   "id": "14c0f490",
   "metadata": {},
   "outputs": [],
   "source": [
    "8. Why is eggs a valid variable name while 100 is invalid?\n",
    "\n",
    "Ans : A variable always should be a string or character with some special characters It should not be a numerical value."
   ]
  },
  {
   "cell_type": "code",
   "execution_count": null,
   "id": "055785be",
   "metadata": {},
   "outputs": [],
   "source": [
    "9. What three functions can be used to get the integer, floating-point number, or string version of a value?\n",
    "\n",
    "Ans : int(value)\n",
    "      float(value)\n",
    "      str(value)"
   ]
  },
  {
   "cell_type": "code",
   "execution_count": null,
   "id": "74b6864f",
   "metadata": {},
   "outputs": [],
   "source": [
    "10. Why does this expression cause an error? How can you fix it?\n",
    "'I have eaten ' + 99 + ' burritos.'\n",
    "\n",
    "Ans : It will show error because we cant concatinate integer with string\n",
    "      => To get rid of error typecast integer 99 to string using str()"
   ]
  }
 ],
 "metadata": {
  "kernelspec": {
   "display_name": "Python 3",
   "language": "python",
   "name": "python3"
  },
  "language_info": {
   "codemirror_mode": {
    "name": "ipython",
    "version": 3
   },
   "file_extension": ".py",
   "mimetype": "text/x-python",
   "name": "python",
   "nbconvert_exporter": "python",
   "pygments_lexer": "ipython3",
   "version": "3.8.8"
  }
 },
 "nbformat": 4,
 "nbformat_minor": 5
}
