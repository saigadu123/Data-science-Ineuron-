{
 "cells": [
  {
   "cell_type": "code",
   "execution_count": null,
   "id": "53c536bc",
   "metadata": {},
   "outputs": [],
   "source": [
    "1. What advantages do Excel spreadsheets have over CSV spreadsheets?\n",
    "\n",
    "Ans : Excel spreadsheets allows to add any features it will allow where CSV spreadsheets does not allow to manipulate."
   ]
  },
  {
   "cell_type": "code",
   "execution_count": null,
   "id": "901cb7e9",
   "metadata": {},
   "outputs": [],
   "source": [
    "2.What do you pass to csv.reader() and csv.writer() to create reader and writer objects?\n",
    "\n",
    "Ans : we will pass the dataset and delimiter symbol"
   ]
  },
  {
   "cell_type": "code",
   "execution_count": null,
   "id": "73a6dfc3",
   "metadata": {},
   "outputs": [],
   "source": [
    "3. What modes do File objects for reader and writer objects need to be opened in?\n",
    "\n",
    "Ans : r,w,r+,w+"
   ]
  },
  {
   "cell_type": "code",
   "execution_count": null,
   "id": "346c3af3",
   "metadata": {},
   "outputs": [],
   "source": [
    "4. What method takes a list argument and writes it to a CSV file?\n",
    "\n",
    "Ans : csv.writer()"
   ]
  },
  {
   "cell_type": "code",
   "execution_count": null,
   "id": "e7ccf9d6",
   "metadata": {},
   "outputs": [],
   "source": [
    "5. What do the keyword arguments delimiter and line terminator do?\n",
    "\n",
    "Ans : It will separate the values into list of tuples"
   ]
  },
  {
   "cell_type": "code",
   "execution_count": null,
   "id": "4ce724f8",
   "metadata": {},
   "outputs": [],
   "source": [
    "6. What function takes a string of JSON data and returns a Python data structure?\n",
    "\n",
    "Ans : loads() returns python data structure of a JSON string "
   ]
  },
  {
   "cell_type": "code",
   "execution_count": null,
   "id": "05d22c2f",
   "metadata": {},
   "outputs": [],
   "source": [
    "7. What function takes a Python data structure and returns a string of JSON data?\n",
    "\n",
    "Ans : dumps() returns JSON data from python data structure."
   ]
  }
 ],
 "metadata": {
  "kernelspec": {
   "display_name": "Python 3",
   "language": "python",
   "name": "python3"
  },
  "language_info": {
   "codemirror_mode": {
    "name": "ipython",
    "version": 3
   },
   "file_extension": ".py",
   "mimetype": "text/x-python",
   "name": "python",
   "nbconvert_exporter": "python",
   "pygments_lexer": "ipython3",
   "version": "3.8.8"
  }
 },
 "nbformat": 4,
 "nbformat_minor": 5
}
