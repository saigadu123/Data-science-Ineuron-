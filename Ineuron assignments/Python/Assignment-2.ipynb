{
 "cells": [
  {
   "cell_type": "code",
   "execution_count": null,
   "id": "51c29fad",
   "metadata": {},
   "outputs": [],
   "source": [
    "1.What are the two values of the Boolean data type? How do you write them?\n",
    "\n",
    "Ans : True and False are the boolean data types"
   ]
  },
  {
   "cell_type": "code",
   "execution_count": null,
   "id": "75a8e2aa",
   "metadata": {},
   "outputs": [],
   "source": [
    "2. What are the three different types of Boolean operators?\n",
    "\n",
    "Ans : AND, OR, NOT"
   ]
  },
  {
   "cell_type": "code",
   "execution_count": null,
   "id": "363eb7ad",
   "metadata": {},
   "outputs": [],
   "source": [
    "4. What are the values of the following expressions?\n",
    "(5 > 4) and (3 == 5) ->False\n",
    "not (5 > 4)  ->False\n",
    "(5 > 4) or (3 == 5) ->True\n",
    "not ((5 > 4) or (3 == 5)) ->False\n",
    "(True and True) and (True == False) ->False\n",
    "(not False) or (not True) ->True\n"
   ]
  },
  {
   "cell_type": "code",
   "execution_count": null,
   "id": "a6428511",
   "metadata": {},
   "outputs": [],
   "source": [
    "5. What are the six comparison operators?\n",
    "\n",
    "Ans : The six comparison operators are \n",
    "      1) <\n",
    "      2) >\n",
    "      3) <=\n",
    "      4) >=\n",
    "      5) ==\n",
    "      6) !="
   ]
  },
  {
   "cell_type": "code",
   "execution_count": null,
   "id": "6f6194fa",
   "metadata": {},
   "outputs": [],
   "source": [
    "6. How do you tell the difference between the equal to and assignment operators?Describe a condition and when you would use one.\n",
    "\n",
    "Ans : Assignment operator is used to assign a value to the variable.\n",
    "      equal to operator is used to compare two values or variables it is used to check the condition is true or false."
   ]
  },
  {
   "cell_type": "code",
   "execution_count": null,
   "id": "269a6b42",
   "metadata": {},
   "outputs": [],
   "source": [
    "7. Identify the three blocks in this code:\n",
    "spam = 0\n",
    "if spam == 10:\n",
    "    print('eggs')\n",
    "if spam > 5:\n",
    "    print('bacon')\n",
    "else:\n",
    "    print('ham')\n",
    "    print('spam')\n",
    "    print('spam')\n",
    "    \n",
    "Ans : There are two if blocks and one else blocks in the above code.\n"
   ]
  },
  {
   "cell_type": "code",
   "execution_count": null,
   "id": "4219f0df",
   "metadata": {},
   "outputs": [],
   "source": [
    "8. Write code that prints Hello if 1 is stored in spam, prints Howdy if 2 is stored in spam, and prints Greetings! if anything else is stored in spam.\n",
    "\n",
    "Ans:  \n",
    "    CODE=>\n",
    "     if spam == 1:\n",
    "        print(\"Hello\")\n",
    "    elif spam == 2:\n",
    "        print(\"Howdy\")\n",
    "    else:\n",
    "        print(\"Greetings!\")"
   ]
  },
  {
   "cell_type": "code",
   "execution_count": null,
   "id": "e3ff1d40",
   "metadata": {},
   "outputs": [],
   "source": [
    "9.If your programme is stuck in an endless loop, what keys you’ll press?\n",
    "\n",
    "Ans : You can press Ctrl+C"
   ]
  },
  {
   "cell_type": "code",
   "execution_count": null,
   "id": "3ead20d6",
   "metadata": {},
   "outputs": [],
   "source": [
    "10. How can you tell the difference between break and continue?\n",
    "\n",
    "Ans : The difference between break and continue is\n",
    "     1) Break is used to stop the entire loop or block.\n",
    "     2) Continue is used to skip the one iteration in a loop."
   ]
  },
  {
   "cell_type": "code",
   "execution_count": null,
   "id": "bb031b01",
   "metadata": {},
   "outputs": [],
   "source": [
    "11. In a for loop, what is the difference between range(10), range(0, 10), and range(0, 10, 1)?\n",
    "\n",
    "Ans : There is no difference between range(10),range(0,10) and range(0,10,1)"
   ]
  },
  {
   "cell_type": "code",
   "execution_count": null,
   "id": "9f6605fa",
   "metadata": {},
   "outputs": [],
   "source": [
    "12. Write a short program that prints the numbers 1 to 10 using a for loop. Then write an equivalent program that prints the numbers 1 to 10 using a while loop.\n",
    "\n",
    "Ans : Using for loop->\n",
    "        for i in range(1,11):\n",
    "            print(i)\n",
    "      Using while loop->\n",
    "        i=1\n",
    "        while i<=10:\n",
    "             print(i)"
   ]
  },
  {
   "cell_type": "code",
   "execution_count": null,
   "id": "be4d3004",
   "metadata": {},
   "outputs": [],
   "source": [
    "13. If you had a function named bacon() inside a module named spam, how would you call it after importing spam?\n",
    "\n",
    "Ans : spam.bacon()"
   ]
  }
 ],
 "metadata": {
  "kernelspec": {
   "display_name": "Python 3",
   "language": "python",
   "name": "python3"
  },
  "language_info": {
   "codemirror_mode": {
    "name": "ipython",
    "version": 3
   },
   "file_extension": ".py",
   "mimetype": "text/x-python",
   "name": "python",
   "nbconvert_exporter": "python",
   "pygments_lexer": "ipython3",
   "version": "3.8.8"
  }
 },
 "nbformat": 4,
 "nbformat_minor": 5
}
