{
 "cells": [
  {
   "cell_type": "code",
   "execution_count": null,
   "id": "4a181bce",
   "metadata": {},
   "outputs": [],
   "source": [
    "1. What exactly is []?\n",
    "Ans : It is an empty list"
   ]
  },
  {
   "cell_type": "code",
   "execution_count": null,
   "id": "b3ec72df",
   "metadata": {},
   "outputs": [],
   "source": [
    "2. In a list of values stored in a variable called spam, how would you assign the value 'hello' as the third value? (Assume [2, 4, 6, 8, 10] are in spam.)\n",
    "\n",
    "Ans : spam[2] = \"hello\""
   ]
  },
  {
   "cell_type": "code",
   "execution_count": null,
   "id": "59011cc2",
   "metadata": {},
   "outputs": [],
   "source": [
    "Let's pretend the spam includes the list ['a', 'b', 'c', 'd'] for the next three queries.\n",
    "\n",
    "3. What is the value of spam[int(int('3' * 2) / 11)]?\n",
    "\n",
    "Ans : spam[3] = 8"
   ]
  },
  {
   "cell_type": "code",
   "execution_count": null,
   "id": "d106fe0f",
   "metadata": {},
   "outputs": [],
   "source": [
    "4. What is the value of spam[-1]?\n",
    "\n",
    "Ans : spam[-1] = ['a','b','c','d']"
   ]
  },
  {
   "cell_type": "code",
   "execution_count": null,
   "id": "54f0feb5",
   "metadata": {},
   "outputs": [],
   "source": [
    "5. What is the value of spam[:2]?\n",
    "\n",
    "Ans : spam[:2] = [2,4]"
   ]
  },
  {
   "cell_type": "code",
   "execution_count": null,
   "id": "32046672",
   "metadata": {},
   "outputs": [],
   "source": [
    "Let's pretend bacon has the list [3.14, 'cat,' 11, 'cat,' True] for the next three questions.\n",
    "6. What is the value of bacon.index('cat')?\n",
    "\n",
    "Ans : The value is 1"
   ]
  },
  {
   "cell_type": "code",
   "execution_count": 2,
   "id": "982fe5b2",
   "metadata": {},
   "outputs": [],
   "source": [
    "7. How does bacon.append(99) change the look of the list value in bacon?\n",
    "\n",
    "Ans : bacon = [3.14,'cat',11,'cat',True]"
   ]
  },
  {
   "cell_type": "code",
   "execution_count": null,
   "id": "7a6728b2",
   "metadata": {},
   "outputs": [],
   "source": [
    "8. How does bacon.remove('cat') change the look of the list in bacon?\n",
    "\n",
    "Ans :  bacon = [3.14,11,'cat',True]"
   ]
  },
  {
   "cell_type": "code",
   "execution_count": 4,
   "id": "cfd9009b",
   "metadata": {},
   "outputs": [],
   "source": [
    "9. What are the list concatenation and list replication operators?\n",
    "\n",
    "Ans : The list concatination operator is \"+\" and replication operator is \"*\""
   ]
  },
  {
   "cell_type": "code",
   "execution_count": 5,
   "id": "5f267d2f",
   "metadata": {},
   "outputs": [],
   "source": [
    "10. What is difference between the list methods append() and insert()?\n",
    "\n",
    "Ans : append() is used to insert data at the end of the list.\n",
    "      insert() is used to insert data at the specific position."
   ]
  },
  {
   "cell_type": "code",
   "execution_count": null,
   "id": "d48bc81b",
   "metadata": {},
   "outputs": [],
   "source": [
    "11. What are the two methods for removing items from a list?\n",
    "\n",
    "Ans : remove() and pop()"
   ]
  },
  {
   "cell_type": "code",
   "execution_count": null,
   "id": "0d46d4bd",
   "metadata": {},
   "outputs": [],
   "source": [
    "12. Describe how list values and string values are identical.\n",
    "\n",
    "Ans : The values that make up the list are elements and strings are collection of list of characters."
   ]
  },
  {
   "cell_type": "code",
   "execution_count": null,
   "id": "4531c164",
   "metadata": {},
   "outputs": [],
   "source": [
    "13. What's the difference between tuples and lists?\n",
    "\n",
    "Ans : Tuples are immutable. \n",
    "      lists are mutable."
   ]
  },
  {
   "cell_type": "code",
   "execution_count": null,
   "id": "dba1e64c",
   "metadata": {},
   "outputs": [],
   "source": [
    "14. How do you type a tuple value that only contains the integer 42?\n",
    "\n",
    "Ans : t = (42,)"
   ]
  },
  {
   "cell_type": "code",
   "execution_count": null,
   "id": "a70969db",
   "metadata": {},
   "outputs": [],
   "source": [
    "15. How do you get a list value's tuple form? How do you get a tuple value's list form?\n",
    "\n",
    "Ans : list() and tuple()"
   ]
  },
  {
   "cell_type": "code",
   "execution_count": null,
   "id": "579b0f1b",
   "metadata": {},
   "outputs": [],
   "source": [
    "17. How do you distinguish between copy.copy() and copy.deepcopy()?\n",
    "\n",
    "Ans : copy() means if some changes occured in assigned variable then it does not reflects the changes to original one.\n",
    "      deepcopy() means changes occured in copied variable reflects to the original variable"
   ]
  }
 ],
 "metadata": {
  "kernelspec": {
   "display_name": "Python 3",
   "language": "python",
   "name": "python3"
  },
  "language_info": {
   "codemirror_mode": {
    "name": "ipython",
    "version": 3
   },
   "file_extension": ".py",
   "mimetype": "text/x-python",
   "name": "python",
   "nbconvert_exporter": "python",
   "pygments_lexer": "ipython3",
   "version": "3.8.8"
  }
 },
 "nbformat": 4,
 "nbformat_minor": 5
}
