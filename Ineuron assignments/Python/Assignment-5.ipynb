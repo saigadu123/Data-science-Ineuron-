{
 "cells": [
  {
   "cell_type": "code",
   "execution_count": null,
   "id": "65792e68",
   "metadata": {},
   "outputs": [],
   "source": [
    "1. What does an empty dictionary's code look like?\n",
    "\n",
    "Ans : d = {}"
   ]
  },
  {
   "cell_type": "code",
   "execution_count": null,
   "id": "fd583b6d",
   "metadata": {},
   "outputs": [],
   "source": [
    "2. What is the value of a dictionary value with the key 'foo' and the value 42?\n",
    "\n",
    "Ans : 42\n"
   ]
  },
  {
   "cell_type": "code",
   "execution_count": null,
   "id": "11dc58ee",
   "metadata": {},
   "outputs": [],
   "source": [
    "3. What is the most significant distinction between a dictionary and a list?\n",
    "\n",
    "Ans : List elements are accessed by the indexs.\n",
    "      Dictionaries are accessed by the keys"
   ]
  },
  {
   "cell_type": "code",
   "execution_count": null,
   "id": "63f42803",
   "metadata": {},
   "outputs": [],
   "source": [
    "4. What happens if you try to access spam['foo'] if spam is {'bar': 100}?\n",
    "\n",
    "Ans : Error "
   ]
  },
  {
   "cell_type": "code",
   "execution_count": null,
   "id": "dc5b4883",
   "metadata": {},
   "outputs": [],
   "source": [
    "5. If a dictionary is stored in spam, what is the difference between the expressions 'cat' in spam and 'cat' in spam.keys()?\n",
    "\n",
    "Ans : 'cat' in spam either it is a key or value. where it is in spam.keys() \"cat\" should be key."
   ]
  },
  {
   "cell_type": "code",
   "execution_count": null,
   "id": "fdbf5955",
   "metadata": {},
   "outputs": [],
   "source": [
    "6. If a dictionary is stored in spam, what is the difference between the expressions 'cat' in spam and 'cat' in spam.values()?\n",
    "\n",
    "Ans :  'cat' in spam either it is a key or value. where in spam.values() \"cat\" should be value."
   ]
  },
  {
   "cell_type": "code",
   "execution_count": null,
   "id": "889fab83",
   "metadata": {},
   "outputs": [],
   "source": [
    "7. What is a shortcut for the following code?\n",
    "if 'color' not in spam:\n",
    "spam['color'] = 'black'\n",
    "\n",
    "Ans : spam['color'] = 'black'."
   ]
  },
  {
   "cell_type": "code",
   "execution_count": null,
   "id": "e8d8f4cf",
   "metadata": {},
   "outputs": [],
   "source": [
    "8. How do you \"pretty print\" dictionary values using which module and function?\n",
    "\n",
    "Ans : pprint module and pprint function."
   ]
  }
 ],
 "metadata": {
  "kernelspec": {
   "display_name": "Python 3",
   "language": "python",
   "name": "python3"
  },
  "language_info": {
   "codemirror_mode": {
    "name": "ipython",
    "version": 3
   },
   "file_extension": ".py",
   "mimetype": "text/x-python",
   "name": "python",
   "nbconvert_exporter": "python",
   "pygments_lexer": "ipython3",
   "version": "3.8.8"
  }
 },
 "nbformat": 4,
 "nbformat_minor": 5
}
