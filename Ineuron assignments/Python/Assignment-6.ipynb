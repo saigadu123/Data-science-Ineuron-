{
 "cells": [
  {
   "cell_type": "markdown",
   "id": "4406aeac",
   "metadata": {},
   "source": [
    "1. What are escape characters, and how do you use them?\n",
    "\n",
    "Ans : An escape character is a backslash followed by the character you want to insert."
   ]
  },
  {
   "cell_type": "markdown",
   "id": "edcc19a6",
   "metadata": {},
   "source": [
    "2. What do the escape characters n and t stand for?\n",
    "\n",
    "Ans : n - newline character.\n",
    "      t - insert a tab in the next."
   ]
  },
  {
   "cell_type": "markdown",
   "id": "9df46824",
   "metadata": {},
   "source": [
    "3. What is the way to include backslash characters in a string?\n",
    "\n",
    "Ans : Just use them whenever u want to change the format."
   ]
  },
  {
   "cell_type": "markdown",
   "id": "742715f0",
   "metadata": {},
   "source": [
    "4. The string \"Howl's Moving Castle\" is a correct value. Why isn't the single quote character in the word Howl's not escaped a problem?\n",
    "\n",
    "Ans : Because we can use the single quote inside the double quote."
   ]
  },
  {
   "cell_type": "markdown",
   "id": "2715d8c2",
   "metadata": {},
   "source": [
    "5. How do you write a string of newlines if you don't want to use the n character?\n",
    "\n",
    "Ans : we can write simply print() statement"
   ]
  },
  {
   "cell_type": "markdown",
   "id": "91bd6b2b",
   "metadata": {},
   "source": [
    "6. What are the values of the given expressions?\n",
    "'Hello, world!'[1]\n",
    "'Hello, world!'[0:5]\n",
    "'Hello, world!'[:5]\n",
    "'Hello, world!'[3:]\n",
    "\n",
    "Ans : 1)e\n",
    "      2)Hello\n",
    "      3)Hello\n",
    "      4)lo, world!"
   ]
  },
  {
   "cell_type": "markdown",
   "id": "af0deb4d",
   "metadata": {},
   "source": [
    "7. What are the values of the following expressions?\n",
    "'Hello'.upper()\n",
    "'Hello'.upper().isupper()\n",
    "'Hello'.upper().lower()\n",
    "\n",
    "Ans : 1)HELLO\n",
    "      2)True\n",
    "      3)hello"
   ]
  },
  {
   "cell_type": "markdown",
   "id": "11bca12e",
   "metadata": {},
   "source": [
    "9. What are the methods for right-justifying, left-justifying, and centering a string?\n",
    "\n",
    "Ans : rjust(),ljust(),center()"
   ]
  },
  {
   "cell_type": "markdown",
   "id": "8f1cc971",
   "metadata": {},
   "source": [
    "10. What is the best way to remove whitespace characters from the start or end?\n",
    "\n",
    "Ans : lstrip(),rstrip()"
   ]
  }
 ],
 "metadata": {
  "kernelspec": {
   "display_name": "Python 3",
   "language": "python",
   "name": "python3"
  },
  "language_info": {
   "codemirror_mode": {
    "name": "ipython",
    "version": 3
   },
   "file_extension": ".py",
   "mimetype": "text/x-python",
   "name": "python",
   "nbconvert_exporter": "python",
   "pygments_lexer": "ipython3",
   "version": "3.8.8"
  }
 },
 "nbformat": 4,
 "nbformat_minor": 5
}
