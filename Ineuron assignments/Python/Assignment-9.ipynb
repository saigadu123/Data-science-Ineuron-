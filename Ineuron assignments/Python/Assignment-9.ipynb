{
 "cells": [
  {
   "cell_type": "code",
   "execution_count": null,
   "id": "2cfb2b0c",
   "metadata": {},
   "outputs": [],
   "source": [
    "1. To what does a relative path refer?\n",
    "\n",
    "Ans : A relative path refers to the location that is relative to current directory."
   ]
  },
  {
   "cell_type": "code",
   "execution_count": null,
   "id": "3408460d",
   "metadata": {},
   "outputs": [],
   "source": [
    "2. 2. What does an absolute path start with your operating system?\n",
    "\n",
    "Ans : An absolute path is defined as a path that is related to the actual file system."
   ]
  },
  {
   "cell_type": "code",
   "execution_count": null,
   "id": "cc408041",
   "metadata": {},
   "outputs": [],
   "source": [
    "3. What do the functions os.getcwd() and os.chdir() do?\n",
    "\n",
    "Ans : os.getcwd() => It is used to retrive the all files present in the current working directory.\n",
    "      os.chdir() => It is used to change the directory."
   ]
  },
  {
   "cell_type": "code",
   "execution_count": null,
   "id": "005bdb7e",
   "metadata": {},
   "outputs": [],
   "source": [
    "4. What are the . and .. folders?\n",
    "\n",
    "Ans : . =>current directory\n",
    "      .. =>parent directory"
   ]
  },
  {
   "cell_type": "code",
   "execution_count": null,
   "id": "3ae70f90",
   "metadata": {},
   "outputs": [],
   "source": [
    "5. In C:\\bacon\\eggs\\spam.txt, which part is the dir name, and which part is the base name?\n",
    "\n",
    "Ans : C:\\bacon\\eggs => directory name\n",
    "      spam =>base line"
   ]
  },
  {
   "cell_type": "code",
   "execution_count": null,
   "id": "cf31f49e",
   "metadata": {},
   "outputs": [],
   "source": [
    "6. What are the three “mode” arguments that can be passed to the open() function?\n",
    "\n",
    "Ans : r,r+,w"
   ]
  },
  {
   "cell_type": "code",
   "execution_count": null,
   "id": "8ca3c969",
   "metadata": {},
   "outputs": [],
   "source": [
    "7. What happens if an existing file is opened in write mode?\n",
    "\n",
    "Ans : If the file already exists then the contents in the file is discarded and treated as an empty file"
   ]
  },
  {
   "cell_type": "code",
   "execution_count": null,
   "id": "d6373101",
   "metadata": {},
   "outputs": [],
   "source": [
    "8. How do you tell the difference between read() and readlines()?\n",
    "\n",
    "Ans : read() => read function reads the file contents into a string.\n",
    "      readline() => this function read a single line at a time."
   ]
  },
  {
   "cell_type": "code",
   "execution_count": null,
   "id": "063e7b23",
   "metadata": {},
   "outputs": [],
   "source": [
    "9. What data structure does a shelf value resemble?\n",
    "\n",
    "Ans : The shelf value resembles the dictionary data structure in the form of keys and values."
   ]
  }
 ],
 "metadata": {
  "kernelspec": {
   "display_name": "Python 3",
   "language": "python",
   "name": "python3"
  },
  "language_info": {
   "codemirror_mode": {
    "name": "ipython",
    "version": 3
   },
   "file_extension": ".py",
   "mimetype": "text/x-python",
   "name": "python",
   "nbconvert_exporter": "python",
   "pygments_lexer": "ipython3",
   "version": "3.8.8"
  }
 },
 "nbformat": 4,
 "nbformat_minor": 5
}
