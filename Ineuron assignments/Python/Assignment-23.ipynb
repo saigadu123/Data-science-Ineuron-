{
 "cells": [
  {
   "cell_type": "code",
   "execution_count": null,
   "id": "b284bd34",
   "metadata": {},
   "outputs": [],
   "source": [
    "1. What is the result of the code, and why?\n",
    ">>> def func(a, b=6, c=8):\n",
    "      print(a, b, c)\n",
    ">>> func(1, 2)\n",
    "\n",
    "Ans : 1 2 8"
   ]
  },
  {
   "cell_type": "code",
   "execution_count": null,
   "id": "73d2ac9e",
   "metadata": {},
   "outputs": [],
   "source": [
    "2. What is the result of this code, and why?\n",
    ">>> def func(a, b, c=5):\n",
    "print(a, b, c)\n",
    ">>> func(1, c=3, b=2)\n",
    "\n",
    "Ans : 1 2 3"
   ]
  },
  {
   "cell_type": "code",
   "execution_count": null,
   "id": "55dab999",
   "metadata": {},
   "outputs": [],
   "source": [
    "3. How about this code: what is its result, and why?\n",
    ">>> def func(a, *pargs):\n",
    "print(a, pargs)\n",
    ">>> func(1, 2, 3)\n",
    "\n",
    "Ans : 1,(2,3)"
   ]
  },
  {
   "cell_type": "code",
   "execution_count": null,
   "id": "5add8d0d",
   "metadata": {},
   "outputs": [],
   "source": [
    "4. What does this code print, and why?\n",
    ">>> def func(a, **kargs):\n",
    "print(a, kargs)\n",
    ">>> func(a=1, c=3, b=2)\n",
    "\n",
    "Ans : 1 {'c':3,'b':2}"
   ]
  },
  {
   "cell_type": "code",
   "execution_count": null,
   "id": "25ee5217",
   "metadata": {},
   "outputs": [],
   "source": [
    "5. What gets printed by this, and explain?\n",
    ">>> def func(a, b, c=8, d=5): print(a, b, c, d)\n",
    ">>> func(1, *(5, 6))\n",
    "\n",
    "Ans : 1 5 6 5"
   ]
  },
  {
   "cell_type": "code",
   "execution_count": null,
   "id": "79cb27ef",
   "metadata": {},
   "outputs": [],
   "source": [
    "6. what is the result of this, and explain?\n",
    ">>> def func(a, b, c): a = 2; b[0] = 'x'; c['a'] = 'y'\n",
    ">>> l=1; m=[1]; n={'a':0}\n",
    ">>> func(l, m, n)\n",
    ">>> l, m, n\n",
    "\n",
    "Ans : 2,[x],{'a':'y'}"
   ]
  },
  {
   "cell_type": "code",
   "execution_count": null,
   "id": "7e323309",
   "metadata": {},
   "outputs": [],
   "source": []
  }
 ],
 "metadata": {
  "kernelspec": {
   "display_name": "Python 3",
   "language": "python",
   "name": "python3"
  },
  "language_info": {
   "codemirror_mode": {
    "name": "ipython",
    "version": 3
   },
   "file_extension": ".py",
   "mimetype": "text/x-python",
   "name": "python",
   "nbconvert_exporter": "python",
   "pygments_lexer": "ipython3",
   "version": "3.8.8"
  }
 },
 "nbformat": 4,
 "nbformat_minor": 5
}
