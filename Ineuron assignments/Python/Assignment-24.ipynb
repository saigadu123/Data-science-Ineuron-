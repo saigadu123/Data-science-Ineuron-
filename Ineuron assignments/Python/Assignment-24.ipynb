{
 "cells": [
  {
   "cell_type": "code",
   "execution_count": null,
   "id": "90de49cb",
   "metadata": {},
   "outputs": [],
   "source": [
    "1. What is the relationship between def statements and lambda expressions ?\n",
    "\n",
    "Ans : The traditional functions are defined using the def keyword whereas lambda functions are defined in a single line."
   ]
  },
  {
   "cell_type": "code",
   "execution_count": null,
   "id": "19d07f76",
   "metadata": {},
   "outputs": [],
   "source": [
    "2. What is the benefit of lambda?\n",
    "\n",
    "Ans : we can define function in a single line which are anonymous functions."
   ]
  },
  {
   "cell_type": "code",
   "execution_count": null,
   "id": "4252fd75",
   "metadata": {},
   "outputs": [],
   "source": [
    "3. Compare and contrast map, filter, and reduce.\n",
    "\n",
    "Ans : Map=>It is a function which binds the input to the function.\n",
    "      Filter =>It is a function which filters each and every element in the sequence based on the condition.\n",
    "      reduce=>It is a function that takes arguments as a list and function work on them available in functools.\n",
    "      "
   ]
  },
  {
   "cell_type": "code",
   "execution_count": null,
   "id": "377a117e",
   "metadata": {},
   "outputs": [],
   "source": [
    "4. What are function annotations, and how are they used?\n",
    "\n",
    "Ans : parameters and return statements are function annotations\n",
    "      parameters used to pass data to function\n",
    "      return is used to return output."
   ]
  },
  {
   "cell_type": "code",
   "execution_count": null,
   "id": "9e74fd29",
   "metadata": {},
   "outputs": [],
   "source": [
    "5. What are recursive functions, and how are they used?\n",
    "\n",
    "Ans : Recursive functions are the functions which call themselves using stack."
   ]
  },
  {
   "cell_type": "code",
   "execution_count": null,
   "id": "a5832179",
   "metadata": {},
   "outputs": [],
   "source": [
    "6. What are some general design guidelines for coding functions?\n",
    "\n",
    "Ans :Write as few lines as possible.\n",
    "     Use appropriate naming conventions.\n",
    "     Segment blocks of code in the same section into paragraphs."
   ]
  },
  {
   "cell_type": "code",
   "execution_count": null,
   "id": "f4e5f126",
   "metadata": {},
   "outputs": [],
   "source": [
    "7. Name three or more ways that functions can communicate results to a caller?\n",
    "\n",
    "Ans : Call by value,call by refernces,call by instances."
   ]
  }
 ],
 "metadata": {
  "kernelspec": {
   "display_name": "Python 3",
   "language": "python",
   "name": "python3"
  },
  "language_info": {
   "codemirror_mode": {
    "name": "ipython",
    "version": 3
   },
   "file_extension": ".py",
   "mimetype": "text/x-python",
   "name": "python",
   "nbconvert_exporter": "python",
   "pygments_lexer": "ipython3",
   "version": "3.8.8"
  }
 },
 "nbformat": 4,
 "nbformat_minor": 5
}
