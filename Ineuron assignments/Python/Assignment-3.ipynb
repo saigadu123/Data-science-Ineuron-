{
 "cells": [
  {
   "cell_type": "code",
   "execution_count": null,
   "id": "4befd77b",
   "metadata": {},
   "outputs": [],
   "source": [
    "1. Why are functions advantageous to have in your programs?\n",
    "\n",
    "Ans : Functions helps us to no need to write a set of code multiple times. Whenever we want to execute a code we just call the function."
   ]
  },
  {
   "cell_type": "code",
   "execution_count": null,
   "id": "ec06177f",
   "metadata": {},
   "outputs": [],
   "source": [
    "2. When does the code in a function run: when it's specified or when it's called?\n",
    "\n",
    "    Ans : When its called."
   ]
  },
  {
   "cell_type": "code",
   "execution_count": null,
   "id": "45163a4b",
   "metadata": {},
   "outputs": [],
   "source": [
    "3. What statement creates a function?\n",
    "\n",
    "Ans : def function_name()"
   ]
  },
  {
   "cell_type": "code",
   "execution_count": null,
   "id": "a22ad6ce",
   "metadata": {},
   "outputs": [],
   "source": [
    "4. What is the difference between a function and a function call?\n",
    "\n",
    "Ans : Function is a block of code.\n",
    "      Function call is the call used to call the function."
   ]
  },
  {
   "cell_type": "code",
   "execution_count": null,
   "id": "babcbe00",
   "metadata": {},
   "outputs": [],
   "source": [
    "5. How many global scopes are there in a Python program? How many local scopes?\n",
    "\n",
    "Ans : One global scope and two local scopes."
   ]
  },
  {
   "cell_type": "code",
   "execution_count": null,
   "id": "6cfa1d4a",
   "metadata": {},
   "outputs": [],
   "source": [
    "6. What happens to variables in a local scope when the function call returns?\n",
    "\n",
    "Ans : The local variable becomes undefined after function returns."
   ]
  },
  {
   "cell_type": "code",
   "execution_count": null,
   "id": "de23c1c3",
   "metadata": {},
   "outputs": [],
   "source": [
    "7. What is the concept of a return value? Is it possible to have a return value in an expression?\n",
    "\n",
    "Ans : Return value is the final output of a some piece of code.Yes we can write the return value as expression."
   ]
  },
  {
   "cell_type": "code",
   "execution_count": null,
   "id": "6d37e8a6",
   "metadata": {},
   "outputs": [],
   "source": [
    "8. If a function does not have a return statement, what is the return value of a call to that function?\n",
    "\n",
    "Ans : None type"
   ]
  },
  {
   "cell_type": "code",
   "execution_count": null,
   "id": "9b538d52",
   "metadata": {},
   "outputs": [],
   "source": [
    "9. How do you make a function variable refer to the global variable?\n",
    "\n",
    "Ans : Using global keyword."
   ]
  },
  {
   "cell_type": "code",
   "execution_count": null,
   "id": "fbb2cef3",
   "metadata": {},
   "outputs": [],
   "source": [
    "10. What is the data type of None?\n",
    "\n",
    "Ans : None means it is empty."
   ]
  },
  {
   "cell_type": "code",
   "execution_count": null,
   "id": "ae96fe54",
   "metadata": {},
   "outputs": [],
   "source": []
  }
 ],
 "metadata": {
  "kernelspec": {
   "display_name": "Python 3",
   "language": "python",
   "name": "python3"
  },
  "language_info": {
   "codemirror_mode": {
    "name": "ipython",
    "version": 3
   },
   "file_extension": ".py",
   "mimetype": "text/x-python",
   "name": "python",
   "nbconvert_exporter": "python",
   "pygments_lexer": "ipython3",
   "version": "3.8.8"
  }
 },
 "nbformat": 4,
 "nbformat_minor": 5
}
