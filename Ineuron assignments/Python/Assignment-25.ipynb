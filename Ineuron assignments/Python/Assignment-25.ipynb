{
 "cells": [
  {
   "cell_type": "code",
   "execution_count": null,
   "id": "6498bcca",
   "metadata": {},
   "outputs": [],
   "source": [
    "1) . What is the difference between enclosing a list comprehension in square brackets and parentheses?\n",
    "\n",
    "Ans : if square brackets means the resultant container is the list\n",
    "      if parantheses means the resultant container is the tuple"
   ]
  },
  {
   "cell_type": "code",
   "execution_count": null,
   "id": "bc8d2e3d",
   "metadata": {},
   "outputs": [],
   "source": [
    "2) What is the relationship between generators and iterators?\n",
    "\n",
    "Ans : we can iterate the generator function with iterators."
   ]
  },
  {
   "cell_type": "code",
   "execution_count": null,
   "id": "13e49f98",
   "metadata": {},
   "outputs": [],
   "source": [
    "3) What are the signs that a function is a generator function?\n",
    "\n",
    "Ans : Function which returns iterable object is a generator function."
   ]
  },
  {
   "cell_type": "code",
   "execution_count": null,
   "id": "5dc08dda",
   "metadata": {},
   "outputs": [],
   "source": [
    "4) What is the purpose of a yield statement?\n",
    "\n",
    "Ans : It is used in generator function instead of printing use yield."
   ]
  },
  {
   "cell_type": "code",
   "execution_count": null,
   "id": "e94c70e0",
   "metadata": {},
   "outputs": [],
   "source": [
    "5) What is the relationship between map calls and list comprehensions? Make a comparison and contrast between the two.\n",
    "\n",
    "Ans : Map function is which bind the list and the function which is defined properly whereas list comprehensions are simple lists which are remains like list for an iterations."
   ]
  }
 ],
 "metadata": {
  "kernelspec": {
   "display_name": "Python 3",
   "language": "python",
   "name": "python3"
  },
  "language_info": {
   "codemirror_mode": {
    "name": "ipython",
    "version": 3
   },
   "file_extension": ".py",
   "mimetype": "text/x-python",
   "name": "python",
   "nbconvert_exporter": "python",
   "pygments_lexer": "ipython3",
   "version": "3.8.8"
  }
 },
 "nbformat": 4,
 "nbformat_minor": 5
}
