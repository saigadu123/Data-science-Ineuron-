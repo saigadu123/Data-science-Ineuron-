{
 "cells": [
  {
   "cell_type": "code",
   "execution_count": null,
   "id": "8e857707",
   "metadata": {},
   "outputs": [],
   "source": [
    "Q1. Which two operator overloading methods can you use in your classes to support iteration?\n",
    "\n",
    "Ans: iter and next functions are used for iteration."
   ]
  },
  {
   "cell_type": "code",
   "execution_count": null,
   "id": "8c863ab1",
   "metadata": {},
   "outputs": [],
   "source": [
    "\n",
    "Q2. In what contexts do the two operator overloading methods manage printing?\n",
    "\n",
    "Ans: iter function is used to create object to make the iterable to iterate.\n",
    "     next function is used to iterate one by one for single call."
   ]
  },
  {
   "cell_type": "code",
   "execution_count": null,
   "id": "81c53286",
   "metadata": {},
   "outputs": [],
   "source": [
    "Q3. In a class, how do you intercept slice operations?\n",
    "\n",
    "Ans:we slice the classes through indexing."
   ]
  },
  {
   "cell_type": "code",
   "execution_count": null,
   "id": "f27c3bf5",
   "metadata": {},
   "outputs": [],
   "source": [
    "\n",
    "Q4. In a class, how do you capture in-place addition?\n",
    "\n",
    "Ans:We use iadd() function to perform add operation in class."
   ]
  },
  {
   "cell_type": "code",
   "execution_count": null,
   "id": "ff3ce252",
   "metadata": {},
   "outputs": [],
   "source": [
    "Q5. When is it appropriate to use operator overloading?\n",
    "\n",
    "Ans:It depends on the types of operands results are different for different operand types."
   ]
  }
 ],
 "metadata": {
  "kernelspec": {
   "display_name": "Python 3",
   "language": "python",
   "name": "python3"
  },
  "language_info": {
   "codemirror_mode": {
    "name": "ipython",
    "version": 3
   },
   "file_extension": ".py",
   "mimetype": "text/x-python",
   "name": "python",
   "nbconvert_exporter": "python",
   "pygments_lexer": "ipython3",
   "version": "3.8.8"
  }
 },
 "nbformat": 4,
 "nbformat_minor": 5
}
