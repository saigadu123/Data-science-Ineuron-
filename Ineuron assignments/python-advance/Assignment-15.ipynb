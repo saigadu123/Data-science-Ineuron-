{
 "cells": [
  {
   "cell_type": "markdown",
   "id": "89516b24",
   "metadata": {},
   "source": [
    "1.What are the new features added in Python 3.8 version?\n",
    "\n",
    "Ans: Python 3.8 allows the use of the above-discussed assignment operator and equal sign (=) inside the f-strings"
   ]
  },
  {
   "cell_type": "markdown",
   "id": "6497d6c2",
   "metadata": {},
   "source": [
    "2. What is monkey patching in Python?\n",
    "\n",
    "Ans: Monkey patching is used to modify modify the class or module in run time."
   ]
  },
  {
   "cell_type": "markdown",
   "id": "d2ad2d54",
   "metadata": {},
   "source": [
    "3. What is the difference between a shallow copy and deep copy?\n",
    "\n",
    "Ans: shallow copy means the changes made in copy of one variable will change the original variable\n",
    "     Deep copy means the changes made in copy of one variable will not change the original variable"
   ]
  },
  {
   "cell_type": "code",
   "execution_count": null,
   "id": "3089341a",
   "metadata": {},
   "outputs": [],
   "source": [
    "4. What is the maximum possible length of an identifier?\n",
    "\n",
    "Ans: Identifiers can be of any length."
   ]
  },
  {
   "cell_type": "code",
   "execution_count": null,
   "id": "a6a126e6",
   "metadata": {},
   "outputs": [],
   "source": [
    "5. What is generator comprehension?\n",
    "\n",
    "Ans: A generator comprehension is a single-line specification for defining a generator in Python."
   ]
  }
 ],
 "metadata": {
  "kernelspec": {
   "display_name": "Python 3",
   "language": "python",
   "name": "python3"
  },
  "language_info": {
   "codemirror_mode": {
    "name": "ipython",
    "version": 3
   },
   "file_extension": ".py",
   "mimetype": "text/x-python",
   "name": "python",
   "nbconvert_exporter": "python",
   "pygments_lexer": "ipython3",
   "version": "3.8.8"
  }
 },
 "nbformat": 4,
 "nbformat_minor": 5
}
