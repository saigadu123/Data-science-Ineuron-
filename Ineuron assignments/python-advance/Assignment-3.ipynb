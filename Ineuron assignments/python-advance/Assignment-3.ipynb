{
 "cells": [
  {
   "cell_type": "code",
   "execution_count": null,
   "id": "390e7513",
   "metadata": {},
   "outputs": [],
   "source": [
    "1. What is the concept of an abstract superclass?\n",
    "\n",
    "Ans:An abstract super class is a parent class which contains empty functions and that functions are defined in child classes or sub classes."
   ]
  },
  {
   "cell_type": "code",
   "execution_count": null,
   "id": "2061f403",
   "metadata": {},
   "outputs": [],
   "source": [
    "2. What happens when a class statement's top level contains a basic assignment statement?\n",
    "\n",
    "Ans : The statment is also known as the static type of variables are assigned."
   ]
  },
  {
   "cell_type": "code",
   "execution_count": null,
   "id": "2cd6d013",
   "metadata": {},
   "outputs": [],
   "source": [
    "3. Why does a class need to manually call a superclass's __init__ method?\n",
    "\n",
    "Ans: We need to call the super class init method in sub class init method to initialize the parent class constructor."
   ]
  },
  {
   "cell_type": "code",
   "execution_count": null,
   "id": "f1584448",
   "metadata": {},
   "outputs": [],
   "source": [
    "4. How can you augment, instead of completely replacing, an inherited method?\n",
    "\n",
    "Ans:We simply rewrite the function again in the child class."
   ]
  },
  {
   "cell_type": "code",
   "execution_count": null,
   "id": "4fcd3b1e",
   "metadata": {},
   "outputs": [],
   "source": [
    "5. How is the local scope of a class different from that of a function?\n",
    "\n",
    "Ans:Local scope of a class is available for the whole class whereas the function scope is only for the function."
   ]
  }
 ],
 "metadata": {
  "kernelspec": {
   "display_name": "Python 3",
   "language": "python",
   "name": "python3"
  },
  "language_info": {
   "codemirror_mode": {
    "name": "ipython",
    "version": 3
   },
   "file_extension": ".py",
   "mimetype": "text/x-python",
   "name": "python",
   "nbconvert_exporter": "python",
   "pygments_lexer": "ipython3",
   "version": "3.8.8"
  }
 },
 "nbformat": 4,
 "nbformat_minor": 5
}
