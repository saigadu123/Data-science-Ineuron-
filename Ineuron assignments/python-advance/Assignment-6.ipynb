{
 "cells": [
  {
   "cell_type": "code",
   "execution_count": null,
   "id": "5273a6ae",
   "metadata": {},
   "outputs": [],
   "source": [
    "Q1. Describe three applications for exception processing.\n",
    "\n",
    "Ans: 1)Division by zero while doing calculations.\n",
    "     2)ATM applications.\n",
    "     3)Electronic voting system checking eligibility of voters."
   ]
  },
  {
   "cell_type": "code",
   "execution_count": null,
   "id": "23d22831",
   "metadata": {},
   "outputs": [],
   "source": [
    "Q2. What happens if you don't do something extra to treat an exception?\n",
    "\n",
    "Ans: The application wont run completely."
   ]
  },
  {
   "cell_type": "code",
   "execution_count": null,
   "id": "b5ab8124",
   "metadata": {},
   "outputs": [],
   "source": [
    "Q3. What are your options for recovering from an exception in your script?\n",
    "\n",
    "Ans: writing code in try block and throwing exceptions using except block."
   ]
  },
  {
   "cell_type": "code",
   "execution_count": null,
   "id": "f9842188",
   "metadata": {},
   "outputs": [],
   "source": [
    "Q4. Describe two methods for triggering exceptions in your script.\n",
    "\n",
    "Ans: try and raise are two methods for triggering exceptions in script."
   ]
  },
  {
   "cell_type": "code",
   "execution_count": null,
   "id": "c0759f2d",
   "metadata": {},
   "outputs": [],
   "source": [
    "Q5. Identify two methods for specifying actions to be executed at termination time, regardless of whether or not an exception exists.\n",
    "\n",
    "Ans:final block and else block used."
   ]
  }
 ],
 "metadata": {
  "kernelspec": {
   "display_name": "Python 3",
   "language": "python",
   "name": "python3"
  },
  "language_info": {
   "codemirror_mode": {
    "name": "ipython",
    "version": 3
   },
   "file_extension": ".py",
   "mimetype": "text/x-python",
   "name": "python",
   "nbconvert_exporter": "python",
   "pygments_lexer": "ipython3",
   "version": "3.8.8"
  }
 },
 "nbformat": 4,
 "nbformat_minor": 5
}
