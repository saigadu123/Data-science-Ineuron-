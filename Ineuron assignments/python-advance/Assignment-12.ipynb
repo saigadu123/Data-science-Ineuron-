{
 "cells": [
  {
   "cell_type": "code",
   "execution_count": null,
   "id": "ff53decf",
   "metadata": {},
   "outputs": [],
   "source": [
    "Q1. Does assigning a value to a string's indexed character violate Python's string immutability?\n",
    "\n",
    "Ans: Yes we can't change the character in a string because of immutability."
   ]
  },
  {
   "cell_type": "code",
   "execution_count": null,
   "id": "7b30454e",
   "metadata": {},
   "outputs": [],
   "source": [
    "Q2. Does using the += operator to concatenate strings violate Python's string immutability? Why or why not?\n",
    "\n",
    "Ans: No the string will concatenate but it creates another copy of the string."
   ]
  },
  {
   "cell_type": "code",
   "execution_count": null,
   "id": "ae55352d",
   "metadata": {},
   "outputs": [],
   "source": [
    "Q3. In Python, how many different ways are there to index a character?\n",
    "\n",
    "Ans: There are two ways to index a character."
   ]
  },
  {
   "cell_type": "code",
   "execution_count": null,
   "id": "18d6958a",
   "metadata": {},
   "outputs": [],
   "source": [
    "Q4. What is the relationship between indexing and slicing?\n",
    "\n",
    "Ans: indexing means accessing a character of particular position.\n",
    "    Slicing is accessing some group of characters from string."
   ]
  },
  {
   "cell_type": "code",
   "execution_count": null,
   "id": "c11ead44",
   "metadata": {},
   "outputs": [],
   "source": [
    "Q5. What is an indexed character's exact data type? What is the data form of a slicing-generated substring?\n",
    "\n",
    "Ans: Indexed character is of character data type.\n",
    "     Sliced substring is of string data type."
   ]
  },
  {
   "cell_type": "code",
   "execution_count": null,
   "id": "2f3fef5c",
   "metadata": {},
   "outputs": [],
   "source": [
    "Q6. What is the relationship between string and character \"types\" in Python?\n",
    "\n",
    "Ans: String is a fgroup of characters and character is a single letter."
   ]
  },
  {
   "cell_type": "code",
   "execution_count": null,
   "id": "6f7cd954",
   "metadata": {},
   "outputs": [],
   "source": [
    "Q7. Identify at least two operators and one method that allow you to combine one or more smaller strings to create a larger string.\n",
    "\n",
    "Ans: Concat(),+,="
   ]
  },
  {
   "cell_type": "code",
   "execution_count": null,
   "id": "a72284c6",
   "metadata": {},
   "outputs": [],
   "source": [
    "Q8. What is the benefit of first checking the target string with in or not in before using the index method to find a substring?\n",
    "\n",
    "Ans: It will helps to access it confidently."
   ]
  },
  {
   "cell_type": "code",
   "execution_count": null,
   "id": "8c6ae07b",
   "metadata": {},
   "outputs": [],
   "source": [
    "Q9. Which operators and built-in string methods produce simple Boolean (true/false) results?\n",
    "\n",
    "Ans: in , not in,is,bool()"
   ]
  }
 ],
 "metadata": {
  "kernelspec": {
   "display_name": "Python 3",
   "language": "python",
   "name": "python3"
  },
  "language_info": {
   "codemirror_mode": {
    "name": "ipython",
    "version": 3
   },
   "file_extension": ".py",
   "mimetype": "text/x-python",
   "name": "python",
   "nbconvert_exporter": "python",
   "pygments_lexer": "ipython3",
   "version": "3.8.8"
  }
 },
 "nbformat": 4,
 "nbformat_minor": 5
}
