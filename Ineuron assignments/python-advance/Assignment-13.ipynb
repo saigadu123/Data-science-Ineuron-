{
 "cells": [
  {
   "cell_type": "code",
   "execution_count": null,
   "id": "f433b6be",
   "metadata": {},
   "outputs": [],
   "source": [
    "Q1. Can you create a programme or function that employs both positive and negative indexing? Is there any repercussion if you do so?\n",
    "\n",
    "Ans:yes we can create a program using slicing concept in both positive and negative indexing"
   ]
  },
  {
   "cell_type": "code",
   "execution_count": null,
   "id": "8f96e288",
   "metadata": {},
   "outputs": [],
   "source": [
    "\n",
    "Q2. What is the most effective way of starting with 1,000 elements in a Python list? Assume that all elements should be set to the same value.\n",
    "\n",
    "Ans:Consider 1 is the value \n",
    "    [1]*1000"
   ]
  },
  {
   "cell_type": "code",
   "execution_count": null,
   "id": "65574125",
   "metadata": {},
   "outputs": [],
   "source": [
    "\n",
    "Q3. How do you slice a list to get any other part while missing the rest? (For example, suppose you want to make a new list with the elements first, third, fifth, seventh, and so on.)\n",
    "\n",
    "Ans:We can add the step value in slicing"
   ]
  },
  {
   "cell_type": "code",
   "execution_count": null,
   "id": "263d25ac",
   "metadata": {},
   "outputs": [],
   "source": [
    "\n",
    "Q4. Explain the distinctions between indexing and slicing.\n",
    "\n",
    "Ans:indexing in the sense we get the value in the list through the index value."
   ]
  },
  {
   "cell_type": "code",
   "execution_count": null,
   "id": "d31da445",
   "metadata": {},
   "outputs": [],
   "source": [
    "Q5. What happens if one of the slicing expression's indexes is out of range?\n",
    "\n",
    "Ans:It will print the values until the last index"
   ]
  },
  {
   "cell_type": "code",
   "execution_count": null,
   "id": "a106b8da",
   "metadata": {},
   "outputs": [],
   "source": [
    "\n",
    "Q6. If you pass a list to a function, and if you want the function to be able to change the values of the list—so that the list is different after the function returns—what action should you avoid?\n",
    "\n",
    "Ans: yes the values will be changed."
   ]
  },
  {
   "cell_type": "code",
   "execution_count": null,
   "id": "9cc39951",
   "metadata": {},
   "outputs": [],
   "source": [
    "Q8. Why is it necessary to use either list comprehension or a loop to create arbitrarily large matrices?\n",
    "\n",
    "Ans:Yes it is necessary to use loops or list comprehension to create large matrices."
   ]
  },
  {
   "cell_type": "code",
   "execution_count": null,
   "id": "4953ac15",
   "metadata": {},
   "outputs": [],
   "source": []
  },
  {
   "cell_type": "code",
   "execution_count": null,
   "id": "e2dc05bc",
   "metadata": {},
   "outputs": [],
   "source": []
  }
 ],
 "metadata": {
  "kernelspec": {
   "display_name": "Python 3",
   "language": "python",
   "name": "python3"
  },
  "language_info": {
   "codemirror_mode": {
    "name": "ipython",
    "version": 3
   },
   "file_extension": ".py",
   "mimetype": "text/x-python",
   "name": "python",
   "nbconvert_exporter": "python",
   "pygments_lexer": "ipython3",
   "version": "3.8.8"
  }
 },
 "nbformat": 4,
 "nbformat_minor": 5
}
