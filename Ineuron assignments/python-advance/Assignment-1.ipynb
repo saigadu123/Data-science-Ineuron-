{
 "cells": [
  {
   "cell_type": "code",
   "execution_count": null,
   "id": "7b39d78c",
   "metadata": {},
   "outputs": [],
   "source": [
    "Q1. What is the purpose of Python's OOP?\n",
    "\n",
    "Ans : Object oriented programming is a technique which is used to represent the real world objects in python with classes and objects"
   ]
  },
  {
   "cell_type": "code",
   "execution_count": null,
   "id": "92823f68",
   "metadata": {},
   "outputs": [],
   "source": [
    "Q2. Where does an inheritance search look for an attribute?\n",
    "\n",
    "Ans : Inheritance is a process of inheriting functionalities from parent class it looks for an attribute from objects of the class"
   ]
  },
  {
   "cell_type": "code",
   "execution_count": null,
   "id": "75fe0af2",
   "metadata": {},
   "outputs": [],
   "source": [
    "\n",
    "Q3. How do you distinguish between a class object and an instance object?\n",
    "\n",
    "Ans : Class object is the storage of the address of the class\n",
    "      instance object is the copy of the another object"
   ]
  },
  {
   "cell_type": "code",
   "execution_count": null,
   "id": "2aacea6e",
   "metadata": {},
   "outputs": [],
   "source": [
    "Q4. What makes the first argument in a class’s method function special?\n",
    "\n",
    "Ans : It is a pointer that represents the particular object."
   ]
  },
  {
   "cell_type": "code",
   "execution_count": null,
   "id": "b651d948",
   "metadata": {},
   "outputs": [],
   "source": [
    "Q5. What is the purpose of the __init__ method?\n",
    "\n",
    "Ans : The __init__ method is a constructor which takes input to the classes."
   ]
  },
  {
   "cell_type": "code",
   "execution_count": null,
   "id": "4eb62eb5",
   "metadata": {},
   "outputs": [],
   "source": [
    "Q6. What is the process for creating a class instance?\n",
    "\n",
    "Ans : Class instance is created using the class name "
   ]
  },
  {
   "cell_type": "code",
   "execution_count": null,
   "id": "9c1ebb4f",
   "metadata": {},
   "outputs": [],
   "source": [
    "\n",
    "Q7. What is the process for creating a class?\n",
    "\n",
    "Ans :class is a collection of functions it is a blueprint "
   ]
  },
  {
   "cell_type": "code",
   "execution_count": null,
   "id": "eee7b41f",
   "metadata": {},
   "outputs": [],
   "source": [
    "Q8. How would you define the superclasses of a class?\n",
    "\n",
    "Ans : The superclass is also know as parent class many sub classes inheriting the features of super class."
   ]
  }
 ],
 "metadata": {
  "kernelspec": {
   "display_name": "Python 3",
   "language": "python",
   "name": "python3"
  },
  "language_info": {
   "codemirror_mode": {
    "name": "ipython",
    "version": 3
   },
   "file_extension": ".py",
   "mimetype": "text/x-python",
   "name": "python",
   "nbconvert_exporter": "python",
   "pygments_lexer": "ipython3",
   "version": "3.8.8"
  }
 },
 "nbformat": 4,
 "nbformat_minor": 5
}
