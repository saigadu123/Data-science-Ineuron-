{
 "cells": [
  {
   "cell_type": "code",
   "execution_count": null,
   "id": "56430636",
   "metadata": {},
   "outputs": [],
   "source": [
    "Q1. What is the purpose of the try statement?\n",
    "\n",
    "Ans:try statement is used to check the errors in the block of code and throw exceptions to except block."
   ]
  },
  {
   "cell_type": "code",
   "execution_count": null,
   "id": "1b609856",
   "metadata": {},
   "outputs": [],
   "source": [
    "Q2. What are the two most popular try statement variations?\n",
    "\n",
    "Ans:try,except and final"
   ]
  },
  {
   "cell_type": "code",
   "execution_count": null,
   "id": "0ec1502f",
   "metadata": {},
   "outputs": [],
   "source": [
    "\n",
    "Q3. What is the purpose of the raise statement?\n",
    "\n",
    "Ans:The raise statement is used to raise manual exceptions."
   ]
  },
  {
   "cell_type": "code",
   "execution_count": null,
   "id": "2c772984",
   "metadata": {},
   "outputs": [],
   "source": [
    "Q4. What does the assert statement do, and what other statement is it like?\n",
    "\n",
    "Ans:An assert statement checks whether a condition is true. If a condition evaluates to True, a program will keep running. If a condition is false, the program will return an AssertionError. At this point, the program will stop executing."
   ]
  },
  {
   "cell_type": "code",
   "execution_count": null,
   "id": "6563fea8",
   "metadata": {},
   "outputs": [],
   "source": [
    "\n",
    "Q5. What is the purpose of the with/as argument, and what other statement is it like?\n",
    "\n",
    "Ans:with statement in Python is used in exception handling to make the code cleaner and much more readable. It simplifies the management of common resources like file streams"
   ]
  }
 ],
 "metadata": {
  "kernelspec": {
   "display_name": "Python 3",
   "language": "python",
   "name": "python3"
  },
  "language_info": {
   "codemirror_mode": {
    "name": "ipython",
    "version": 3
   },
   "file_extension": ".py",
   "mimetype": "text/x-python",
   "name": "python",
   "nbconvert_exporter": "python",
   "pygments_lexer": "ipython3",
   "version": "3.8.8"
  }
 },
 "nbformat": 4,
 "nbformat_minor": 5
}
