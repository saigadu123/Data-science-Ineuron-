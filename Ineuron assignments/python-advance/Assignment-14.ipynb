{
 "cells": [
  {
   "cell_type": "code",
   "execution_count": null,
   "id": "1f0ab3b7",
   "metadata": {},
   "outputs": [],
   "source": [
    "Q1. Is an assignment operator like += only for show? Is it possible that it would lead to faster results at the runtime?\n",
    "\n",
    "Ans:yes it leads to faster results in runtime."
   ]
  },
  {
   "cell_type": "code",
   "execution_count": null,
   "id": "44ea3661",
   "metadata": {},
   "outputs": [],
   "source": [
    "Q2. What is the smallest number of statements you'd have to write in most programming languages to replace the Python expression a, b = a + b, a?\n",
    "\n",
    "Ans:Two statements"
   ]
  },
  {
   "cell_type": "code",
   "execution_count": null,
   "id": "3dedc037",
   "metadata": {},
   "outputs": [],
   "source": [
    "Q3. In Python, what is the most effective way to set a list of 100 integers to 0?\n",
    "\n",
    "Ans: [0]*100"
   ]
  },
  {
   "cell_type": "code",
   "execution_count": null,
   "id": "c5c7366b",
   "metadata": {},
   "outputs": [],
   "source": [
    "Q4. What is the most effective way to initialise a list of 99 integers that repeats the sequence 1, 2, 3? S If necessary, show step-by-step instructions on how to accomplish this.\n",
    "\n",
    "Ans:l = []\n",
    "    c = 1\n",
    "    for i in range(99):\n",
    "        if c==3:\n",
    "            c = 0\n",
    "        l.append(c)\n",
    "        c+=1\n",
    "        "
   ]
  },
  {
   "cell_type": "code",
   "execution_count": null,
   "id": "7026c786",
   "metadata": {},
   "outputs": [],
   "source": [
    "Q5. If you're using IDLE to run a Python application, explain how to print a multidimensional list as efficiently?\n",
    "\n",
    "\n",
    "Ans: a = [[1,2,3],[4,5,6],[7,8,9]]"
   ]
  },
  {
   "cell_type": "code",
   "execution_count": null,
   "id": "d3622f7e",
   "metadata": {},
   "outputs": [],
   "source": [
    "Q6. Is it possible to use list comprehension with a string? If so, how can you go about doing it?\n",
    "\n",
    "Ans:yes it is possible \n",
    "    c = \"saikrishna\"\n",
    "    l = [i for i in c]\n",
    "    l"
   ]
  },
  {
   "cell_type": "code",
   "execution_count": null,
   "id": "e46aa9a5",
   "metadata": {},
   "outputs": [],
   "source": [
    "Q7. From the command line, how do you get support with a user-written Python programme? Is this possible from inside IDLE?\n",
    "\n",
    "Ans:python filename command in command line\n",
    "    Yes it is possible in idle as well"
   ]
  },
  {
   "cell_type": "code",
   "execution_count": null,
   "id": "bdb8f3b4",
   "metadata": {},
   "outputs": [],
   "source": [
    "Q10. If a function is a generator function, what does it return?\n",
    "\n",
    "Ans: It returns the iterable object."
   ]
  },
  {
   "cell_type": "code",
   "execution_count": null,
   "id": "d97139d5",
   "metadata": {},
   "outputs": [],
   "source": [
    "\n",
    "Q11. What is the one improvement that must be made to a function in order for it to become a generator function in the Python language?\n",
    "\n",
    "Ans: we have to give yield keyword instead of printing."
   ]
  },
  {
   "cell_type": "code",
   "execution_count": null,
   "id": "8daf01e1",
   "metadata": {},
   "outputs": [],
   "source": [
    "Q12. Identify at least one benefit of generators.\n",
    "\n",
    "Ans: we can create our own functions as a generators and they d"
   ]
  }
 ],
 "metadata": {
  "kernelspec": {
   "display_name": "Python 3",
   "language": "python",
   "name": "python3"
  },
  "language_info": {
   "codemirror_mode": {
    "name": "ipython",
    "version": 3
   },
   "file_extension": ".py",
   "mimetype": "text/x-python",
   "name": "python",
   "nbconvert_exporter": "python",
   "pygments_lexer": "ipython3",
   "version": "3.8.8"
  }
 },
 "nbformat": 4,
 "nbformat_minor": 5
}
