{
 "cells": [
  {
   "cell_type": "code",
   "execution_count": null,
   "id": "0df46e77",
   "metadata": {},
   "outputs": [],
   "source": [
    "Q1. What is the meaning of multiple inheritance?\n",
    "\n",
    "Ans:Multiple inheritance means one class is inheriting two classes."
   ]
  },
  {
   "cell_type": "code",
   "execution_count": null,
   "id": "5aa13b41",
   "metadata": {},
   "outputs": [],
   "source": [
    "Q2. What is the concept of delegation?\n",
    "\n",
    "Ans:Deligation is object oriented technique consider the object x where we are changing the behaviour of one of its methods."
   ]
  },
  {
   "cell_type": "code",
   "execution_count": null,
   "id": "8126ab86",
   "metadata": {},
   "outputs": [],
   "source": [
    "Q3. What is the concept of composition?\n",
    "\n",
    "Ans:Composition is a concept that models a has a relationship. It enables creating complex types by combining objects of other types. This means that a class Composite can contain an object of another class Component ."
   ]
  },
  {
   "cell_type": "code",
   "execution_count": null,
   "id": "0b2b0047",
   "metadata": {},
   "outputs": [],
   "source": [
    "\n",
    "Q4. What are bound methods and how do we use them?\n",
    "\n",
    "Ans:A bound method is the one which is dependent on the instance of the class as the first argument."
   ]
  },
  {
   "cell_type": "code",
   "execution_count": null,
   "id": "20795d1c",
   "metadata": {},
   "outputs": [],
   "source": [
    "\n",
    "\n",
    "Q5. What is the purpose of pseudoprivate attributes?\n",
    "\n",
    "Ans:Pseudoprivate attributes are also useful in larger frameworks or tools, both to avoid introducing new method names\n",
    "    that might accidentally hide definitions elsewhere in the class tree and to reduce the chance of internal methods\n",
    "    being replaced by names defined lower in the tree."
   ]
  }
 ],
 "metadata": {
  "kernelspec": {
   "display_name": "Python 3",
   "language": "python",
   "name": "python3"
  },
  "language_info": {
   "codemirror_mode": {
    "name": "ipython",
    "version": 3
   },
   "file_extension": ".py",
   "mimetype": "text/x-python",
   "name": "python",
   "nbconvert_exporter": "python",
   "pygments_lexer": "ipython3",
   "version": "3.8.8"
  }
 },
 "nbformat": 4,
 "nbformat_minor": 5
}
