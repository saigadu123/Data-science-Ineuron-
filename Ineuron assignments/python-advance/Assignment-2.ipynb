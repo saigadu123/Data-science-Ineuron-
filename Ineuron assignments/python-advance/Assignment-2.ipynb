{
 "cells": [
  {
   "cell_type": "code",
   "execution_count": null,
   "id": "a1477374",
   "metadata": {},
   "outputs": [],
   "source": [
    "Q1. What is the relationship between classes and modules?\n",
    "\n",
    "Ans: Classes are also known as collection of member functions and member variables.Whereas the modules are also known as the \n",
    "    collection of libraries which cant be initialized.\n",
    "    "
   ]
  },
  {
   "cell_type": "code",
   "execution_count": null,
   "id": "2edb04f3",
   "metadata": {},
   "outputs": [],
   "source": [
    "Q2. How do you make instances and classes?\n",
    "\n",
    "Ans : classes are the blueprints of the objects or instances.We can create the number of instances for the class."
   ]
  },
  {
   "cell_type": "code",
   "execution_count": null,
   "id": "fed1c06d",
   "metadata": {},
   "outputs": [],
   "source": [
    "Q3. Where and how should be class attributes created?\n",
    "\n",
    "Ans : class attributes are created in above the constructor known as init method."
   ]
  },
  {
   "cell_type": "code",
   "execution_count": null,
   "id": "4699b39b",
   "metadata": {},
   "outputs": [],
   "source": [
    "Q4. Where and how are instance attributes created?\n",
    "\n",
    "Ans : Instance attributes are created in the init method known as a constructor."
   ]
  },
  {
   "cell_type": "code",
   "execution_count": null,
   "id": "e9caaeaa",
   "metadata": {},
   "outputs": [],
   "source": [
    "Q5. What does the term \"self\" in a Python class mean?\n",
    "\n",
    "Ans : self is a pointer which store the address of the memory occupied by the object when it is created."
   ]
  },
  {
   "cell_type": "code",
   "execution_count": null,
   "id": "532331f6",
   "metadata": {},
   "outputs": [],
   "source": [
    "\n",
    "Q6. How does a Python class handle operator overloading?\n",
    "\n",
    "Ans : Python provides some special function or magic function that is automatically invoked when it is associated with that particular operator."
   ]
  },
  {
   "cell_type": "code",
   "execution_count": null,
   "id": "20f80e66",
   "metadata": {},
   "outputs": [],
   "source": [
    "Q9. What are the two most important concepts to grasp in order to comprehend Python OOP code?\n",
    "\n",
    "Ans : Abstraction and Encapsulation"
   ]
  }
 ],
 "metadata": {
  "kernelspec": {
   "display_name": "Python 3",
   "language": "python",
   "name": "python3"
  },
  "language_info": {
   "codemirror_mode": {
    "name": "ipython",
    "version": 3
   },
   "file_extension": ".py",
   "mimetype": "text/x-python",
   "name": "python",
   "nbconvert_exporter": "python",
   "pygments_lexer": "ipython3",
   "version": "3.8.8"
  }
 },
 "nbformat": 4,
 "nbformat_minor": 5
}
