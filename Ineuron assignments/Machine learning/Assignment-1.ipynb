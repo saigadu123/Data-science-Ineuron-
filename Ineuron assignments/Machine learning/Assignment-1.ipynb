{
 "cells": [
  {
   "cell_type": "markdown",
   "id": "c97c754f",
   "metadata": {},
   "source": [
    "1. What does one mean by the term \"machine learning\"?\n",
    "\n",
    "Ans: A machine learning is the ability of a computer system to learn itself and mimics a human behaviour"
   ]
  },
  {
   "cell_type": "markdown",
   "id": "48ef670a",
   "metadata": {},
   "source": [
    "2.Can you think of 4 distinct types of issues where it shines?\n",
    "\n",
    "Ans: Medical fields\n",
    "     Army\n",
    "     Security\n",
    "     Businesses"
   ]
  },
  {
   "cell_type": "markdown",
   "id": "2811dcb3",
   "metadata": {},
   "source": [
    "3.What is a labeled training set, and how does it work?\n",
    "\n",
    "Ans: A labeled dataset consists of a target variable which is dependent on the independent variables."
   ]
  },
  {
   "cell_type": "markdown",
   "id": "f7fecbf0",
   "metadata": {},
   "source": [
    "4.What are the two most important tasks that are supervised?\n",
    "\n",
    "Ans: Regression and classification"
   ]
  },
  {
   "cell_type": "markdown",
   "id": "d30112a4",
   "metadata": {},
   "source": [
    "5.Can you think of four examples of unsupervised tasks?\n",
    "\n",
    "Ans: Clustering of objects with similarities."
   ]
  },
  {
   "cell_type": "markdown",
   "id": "fce92997",
   "metadata": {},
   "source": [
    "7.Which algorithm will you use to divide your customers into different groups?\n",
    "\n",
    "Ans: Logistic Regression"
   ]
  },
  {
   "cell_type": "code",
   "execution_count": null,
   "id": "8cd7b229",
   "metadata": {},
   "outputs": [],
   "source": [
    "8.Will you consider the problem of spam detection to be a supervised or unsupervised learning problem?\n",
    "\n",
    "Ans: Supervised machine learning"
   ]
  },
  {
   "cell_type": "code",
   "execution_count": null,
   "id": "7699d37e",
   "metadata": {},
   "outputs": [],
   "source": [
    "11.What kind of learning algorithm makes predictions using a similarity measure?\n",
    "\n",
    "Ans: Clustering type."
   ]
  },
  {
   "cell_type": "code",
   "execution_count": null,
   "id": "5aaccfea",
   "metadata": {},
   "outputs": [],
   "source": [
    "12.What's the difference between a model parameter and a hyperparameter in a learning algorithm?\n",
    "\n",
    "Ans:  model parameters are estimated from data automatically and model hyperparameters are set manually and are used in processes to help estimate model parameters"
   ]
  }
 ],
 "metadata": {
  "kernelspec": {
   "display_name": "Python 3",
   "language": "python",
   "name": "python3"
  },
  "language_info": {
   "codemirror_mode": {
    "name": "ipython",
    "version": 3
   },
   "file_extension": ".py",
   "mimetype": "text/x-python",
   "name": "python",
   "nbconvert_exporter": "python",
   "pygments_lexer": "ipython3",
   "version": "3.8.8"
  }
 },
 "nbformat": 4,
 "nbformat_minor": 5
}
