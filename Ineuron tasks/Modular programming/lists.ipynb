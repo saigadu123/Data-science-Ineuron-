{
 "cells": [
  {
   "cell_type": "code",
   "execution_count": 1,
   "id": "5d40d297",
   "metadata": {},
   "outputs": [],
   "source": [
    "import logging\n"
   ]
  },
  {
   "cell_type": "code",
   "execution_count": 2,
   "id": "b622b519",
   "metadata": {},
   "outputs": [],
   "source": [
    "logging.basicConfig(filename=\"listfile.log\",level=logging.INFO)"
   ]
  },
  {
   "cell_type": "code",
   "execution_count": 3,
   "id": "a830b80e",
   "metadata": {},
   "outputs": [],
   "source": [
    "from list_pack import list"
   ]
  },
  {
   "cell_type": "markdown",
   "id": "5915a360",
   "metadata": {},
   "source": [
    "### Append function"
   ]
  },
  {
   "cell_type": "code",
   "execution_count": 6,
   "id": "31995cdc",
   "metadata": {},
   "outputs": [],
   "source": [
    "logging.info(\"Pass the list and the element u want to append as an arguments\")\n",
    "l = [1,2,3,4,5.6]\n",
    "list.append(l,8)\n",
    "logging.warning(\"Dont use of print statement\")"
   ]
  },
  {
   "cell_type": "code",
   "execution_count": 7,
   "id": "747ed311",
   "metadata": {},
   "outputs": [
    {
     "data": {
      "text/plain": [
       "[1, 2, 3, 4, 5.6, 8]"
      ]
     },
     "execution_count": 7,
     "metadata": {},
     "output_type": "execute_result"
    }
   ],
   "source": [
    "l"
   ]
  },
  {
   "cell_type": "markdown",
   "id": "4c53c92e",
   "metadata": {},
   "source": [
    "### Clear function"
   ]
  },
  {
   "cell_type": "code",
   "execution_count": 8,
   "id": "e9ba87aa",
   "metadata": {},
   "outputs": [
    {
     "data": {
      "text/plain": [
       "[]"
      ]
     },
     "execution_count": 8,
     "metadata": {},
     "output_type": "execute_result"
    }
   ],
   "source": [
    "logging.info(\"Pass the list as an argument\")\n",
    "t = [4,3,2,7,8]\n",
    "list.clear(t)"
   ]
  },
  {
   "cell_type": "markdown",
   "id": "6dad0590",
   "metadata": {},
   "source": [
    "### Copy function"
   ]
  },
  {
   "cell_type": "code",
   "execution_count": 9,
   "id": "24f93f62",
   "metadata": {},
   "outputs": [
    {
     "data": {
      "text/plain": [
       "[1, 2, 3, 4, 5.6, 8]"
      ]
     },
     "execution_count": 9,
     "metadata": {},
     "output_type": "execute_result"
    }
   ],
   "source": [
    "logging.info(\"pass the list as an argument\")\n",
    "num = list.copy(l)\n",
    "num\n",
    "logging.info(\"The list is copied to another variable\")"
   ]
  },
  {
   "cell_type": "markdown",
   "id": "0984268c",
   "metadata": {},
   "source": [
    "### Count function"
   ]
  },
  {
   "cell_type": "code",
   "execution_count": 10,
   "id": "029560df",
   "metadata": {},
   "outputs": [
    {
     "data": {
      "text/plain": [
       "1"
      ]
     },
     "execution_count": 10,
     "metadata": {},
     "output_type": "execute_result"
    }
   ],
   "source": [
    "logging.info(\"pass the list and element to count as an arguments\")\n",
    "list.count(l,4)\n",
    "logging.info(\"It will return the integer \")"
   ]
  },
  {
   "cell_type": "markdown",
   "id": "9545a203",
   "metadata": {},
   "source": [
    "### Extend function"
   ]
  },
  {
   "cell_type": "code",
   "execution_count": 12,
   "id": "b5b869ff",
   "metadata": {},
   "outputs": [
    {
     "data": {
      "text/plain": [
       "[1, 2, 3, 4, 5.6, 8, 4, 3, 2, 7, 8, 4, 3, 2, 7, 8]"
      ]
     },
     "execution_count": 12,
     "metadata": {},
     "output_type": "execute_result"
    }
   ],
   "source": [
    "logging.info(\"Pass the two lists as an arguments\")\n",
    "list.extend(l,t)\n",
    "l"
   ]
  },
  {
   "cell_type": "markdown",
   "id": "0a55d1dd",
   "metadata": {},
   "source": [
    "### Index function"
   ]
  },
  {
   "cell_type": "code",
   "execution_count": 13,
   "id": "f226a096",
   "metadata": {},
   "outputs": [
    {
     "data": {
      "text/plain": [
       "5"
      ]
     },
     "execution_count": 13,
     "metadata": {},
     "output_type": "execute_result"
    }
   ],
   "source": [
    "logging.info(\"Pass the list and the element which u want to find the index\")\n",
    "list.index(l,8)\n",
    "logging.warning(\"It will pass the first element index if multiple values are exist\")"
   ]
  },
  {
   "cell_type": "markdown",
   "id": "d754d212",
   "metadata": {},
   "source": [
    "### Insert function"
   ]
  },
  {
   "cell_type": "code",
   "execution_count": 17,
   "id": "bbeaba37",
   "metadata": {},
   "outputs": [],
   "source": [
    "logging.info(\"Pass the position and element to insert\")\n",
    "list.insert(l,3,55)\n",
    "l\n",
    "logging.warning(\"It will add how many times u run\")"
   ]
  },
  {
   "cell_type": "code",
   "execution_count": 18,
   "id": "7ee0e77f",
   "metadata": {},
   "outputs": [
    {
     "data": {
      "text/plain": [
       "[1, 2, 3, 55, 55, 55, 4, 5.6, 8, 4, 3, 2, 7, 8, 4, 3, 2, 7, 8]"
      ]
     },
     "execution_count": 18,
     "metadata": {},
     "output_type": "execute_result"
    }
   ],
   "source": [
    "l"
   ]
  },
  {
   "cell_type": "markdown",
   "id": "47703f9f",
   "metadata": {},
   "source": [
    "### POP function"
   ]
  },
  {
   "cell_type": "code",
   "execution_count": 20,
   "id": "d716b2d5",
   "metadata": {},
   "outputs": [
    {
     "data": {
      "text/plain": [
       "[1, 2, 3, 55, 55, 55, 4, 5.6, 8, 4, 3, 2, 7, 8, 4, 3, 2]"
      ]
     },
     "execution_count": 20,
     "metadata": {},
     "output_type": "execute_result"
    }
   ],
   "source": [
    "logging.info(\"Pass the list alone\")\n",
    "list.pop(l)\n",
    "logging.info(\"It will remove the last element\")\n",
    "l"
   ]
  },
  {
   "cell_type": "markdown",
   "id": "ab0e34aa",
   "metadata": {},
   "source": [
    "### Remove function"
   ]
  },
  {
   "cell_type": "code",
   "execution_count": 21,
   "id": "2f61fe37",
   "metadata": {},
   "outputs": [
    {
     "data": {
      "text/plain": [
       "[1, 2, 3, 55, 55, 4, 5.6, 8, 4, 3, 2, 7, 8, 4, 3, 2]"
      ]
     },
     "execution_count": 21,
     "metadata": {},
     "output_type": "execute_result"
    }
   ],
   "source": [
    "logging.info(\"pass the list and the element u want to remove\")\n",
    "list.remove(l,55)\n",
    "logging.warning(\"It will remove one element if multiple values exist\")\n",
    "l"
   ]
  },
  {
   "cell_type": "markdown",
   "id": "e4664663",
   "metadata": {},
   "source": [
    "### Reverse function"
   ]
  },
  {
   "cell_type": "code",
   "execution_count": 22,
   "id": "c2641f28",
   "metadata": {},
   "outputs": [
    {
     "data": {
      "text/plain": [
       "[2, 3, 4, 8, 7, 2, 3, 4, 8, 5.6, 4, 55, 55, 3, 2, 1]"
      ]
     },
     "execution_count": 22,
     "metadata": {},
     "output_type": "execute_result"
    }
   ],
   "source": [
    "logging.info(\"Pass the list alone\")\n",
    "list.reverse(l)\n",
    "logging.info(\"Reversed the list\")\n",
    "l"
   ]
  },
  {
   "cell_type": "markdown",
   "id": "58e5ada4",
   "metadata": {},
   "source": [
    "### Sort function"
   ]
  },
  {
   "cell_type": "code",
   "execution_count": 23,
   "id": "9d5b3089",
   "metadata": {},
   "outputs": [
    {
     "data": {
      "text/plain": [
       "[1, 2, 2, 2, 3, 3, 3, 4, 4, 4, 5.6, 7, 8, 8, 55, 55]"
      ]
     },
     "execution_count": 23,
     "metadata": {},
     "output_type": "execute_result"
    }
   ],
   "source": [
    "logging.info(\"pass the list alone\")\n",
    "list.sort(l)\n",
    "logging.info(\"It will return sorted list\")\n",
    "l"
   ]
  },
  {
   "cell_type": "code",
   "execution_count": null,
   "id": "7749b0b5",
   "metadata": {},
   "outputs": [],
   "source": []
  }
 ],
 "metadata": {
  "kernelspec": {
   "display_name": "Python 3",
   "language": "python",
   "name": "python3"
  },
  "language_info": {
   "codemirror_mode": {
    "name": "ipython",
    "version": 3
   },
   "file_extension": ".py",
   "mimetype": "text/x-python",
   "name": "python",
   "nbconvert_exporter": "python",
   "pygments_lexer": "ipython3",
   "version": "3.8.8"
  }
 },
 "nbformat": 4,
 "nbformat_minor": 5
}
