{
 "cells": [
  {
   "cell_type": "code",
   "execution_count": 1,
   "id": "3428b7d0",
   "metadata": {},
   "outputs": [],
   "source": [
    "import logging"
   ]
  },
  {
   "cell_type": "code",
   "execution_count": 2,
   "id": "60ff760c",
   "metadata": {},
   "outputs": [],
   "source": [
    "logging.basicConfig(filename=\"tuplefile.log\",level=logging.INFO)"
   ]
  },
  {
   "cell_type": "code",
   "execution_count": 3,
   "id": "89c8d512",
   "metadata": {},
   "outputs": [],
   "source": [
    "from tuple_pack import tuple"
   ]
  },
  {
   "cell_type": "code",
   "execution_count": 8,
   "id": "34795314",
   "metadata": {},
   "outputs": [],
   "source": [
    "logging.info(\"Here I initialized the tuple\")\n",
    "tup = (1,2,3,4,5,6,4)"
   ]
  },
  {
   "cell_type": "markdown",
   "id": "1b03697e",
   "metadata": {},
   "source": [
    "### Index function"
   ]
  },
  {
   "cell_type": "code",
   "execution_count": 9,
   "id": "cb6ca35d",
   "metadata": {},
   "outputs": [],
   "source": [
    "logging.info(\"using the index function\")\n",
    "\n",
    "tuple.index(tup,2)\n",
    "logging.warning(\"U should pass the tuple and the element u want to find the index\")"
   ]
  },
  {
   "cell_type": "markdown",
   "id": "c9349425",
   "metadata": {},
   "source": [
    "### Count function"
   ]
  },
  {
   "cell_type": "code",
   "execution_count": 6,
   "id": "0c43b172",
   "metadata": {},
   "outputs": [
    {
     "data": {
      "text/plain": [
       "2"
      ]
     },
     "execution_count": 6,
     "metadata": {},
     "output_type": "execute_result"
    }
   ],
   "source": [
    "logging.info(\"Using the count function to count the element how many times it exists\")\n",
    "\n",
    "tuple.count(tup,4)\n",
    "\n",
    "logging.warning(\"Must pass the tuple and the element\")"
   ]
  },
  {
   "cell_type": "code",
   "execution_count": 7,
   "id": "40cd3e11",
   "metadata": {},
   "outputs": [],
   "source": []
  },
  {
   "cell_type": "code",
   "execution_count": null,
   "id": "dad2a9ba",
   "metadata": {},
   "outputs": [],
   "source": []
  }
 ],
 "metadata": {
  "kernelspec": {
   "display_name": "Python 3",
   "language": "python",
   "name": "python3"
  },
  "language_info": {
   "codemirror_mode": {
    "name": "ipython",
    "version": 3
   },
   "file_extension": ".py",
   "mimetype": "text/x-python",
   "name": "python",
   "nbconvert_exporter": "python",
   "pygments_lexer": "ipython3",
   "version": "3.8.8"
  }
 },
 "nbformat": 4,
 "nbformat_minor": 5
}
