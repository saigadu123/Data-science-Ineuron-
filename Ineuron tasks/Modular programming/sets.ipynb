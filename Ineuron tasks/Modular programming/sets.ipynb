{
 "cells": [
  {
   "cell_type": "code",
   "execution_count": 1,
   "id": "f8a56ff4",
   "metadata": {},
   "outputs": [],
   "source": [
    "import logging"
   ]
  },
  {
   "cell_type": "code",
   "execution_count": 2,
   "id": "f071ba1b",
   "metadata": {},
   "outputs": [],
   "source": [
    "logging.basicConfig(filename=\"setfile.log\",level=logging.INFO)"
   ]
  },
  {
   "cell_type": "code",
   "execution_count": 4,
   "id": "ec11f413",
   "metadata": {},
   "outputs": [],
   "source": [
    "logging.info(\"Importing the set module from set package\")\n"
   ]
  },
  {
   "cell_type": "code",
   "execution_count": 6,
   "id": "6c36f623",
   "metadata": {},
   "outputs": [],
   "source": [
    "from Set_pack import set"
   ]
  },
  {
   "cell_type": "code",
   "execution_count": 7,
   "id": "3a91daa1",
   "metadata": {},
   "outputs": [],
   "source": [
    "logging.info(\"Declaring the set\")\n",
    "s = {1,3,5,7,2,4,6,8}"
   ]
  },
  {
   "cell_type": "markdown",
   "id": "2f51def6",
   "metadata": {},
   "source": [
    "### Add function"
   ]
  },
  {
   "cell_type": "code",
   "execution_count": 10,
   "id": "450e1f54",
   "metadata": {},
   "outputs": [],
   "source": [
    "logging.info(\"Using the add function element is added into the set\")\n",
    "set.add(s,10)"
   ]
  },
  {
   "cell_type": "code",
   "execution_count": 9,
   "id": "46d8f177",
   "metadata": {},
   "outputs": [],
   "source": [
    "logging.info(\"Displaying the set\")\n",
    "logging.warning(\"Integer element is passed in the add function\")"
   ]
  },
  {
   "cell_type": "markdown",
   "id": "6a10987b",
   "metadata": {},
   "source": [
    "### Clear function"
   ]
  },
  {
   "cell_type": "code",
   "execution_count": 12,
   "id": "545854a3",
   "metadata": {},
   "outputs": [],
   "source": [
    "logging.info(\"Using clear function Delete all the elements of the set\")\n",
    "set.clear(s)\n",
    "logging.warning(\"Set is passed into the function\")"
   ]
  },
  {
   "cell_type": "code",
   "execution_count": 13,
   "id": "47ef3750",
   "metadata": {},
   "outputs": [
    {
     "data": {
      "text/plain": [
       "set()"
      ]
     },
     "execution_count": 13,
     "metadata": {},
     "output_type": "execute_result"
    }
   ],
   "source": [
    "s"
   ]
  },
  {
   "cell_type": "markdown",
   "id": "2aa36413",
   "metadata": {},
   "source": [
    "### Copy function"
   ]
  },
  {
   "cell_type": "code",
   "execution_count": 14,
   "id": "65a6bc72",
   "metadata": {},
   "outputs": [],
   "source": [
    "logging.info(\"Copy function is used to shallow copy the original one to other variable\")\n",
    "s = {1,5,2,6,3,4,8,7,9}\n",
    "logging.warning(\"Here I am declaring the new set\")\n"
   ]
  },
  {
   "cell_type": "code",
   "execution_count": 15,
   "id": "68f338d6",
   "metadata": {},
   "outputs": [],
   "source": [
    "s1 = set.copy(s)"
   ]
  },
  {
   "cell_type": "code",
   "execution_count": 16,
   "id": "75f40f87",
   "metadata": {},
   "outputs": [
    {
     "data": {
      "text/plain": [
       "{1, 2, 3, 4, 5, 6, 7, 8, 9}"
      ]
     },
     "execution_count": 16,
     "metadata": {},
     "output_type": "execute_result"
    }
   ],
   "source": [
    "s1"
   ]
  },
  {
   "cell_type": "code",
   "execution_count": 17,
   "id": "3e04a582",
   "metadata": {},
   "outputs": [],
   "source": [
    "set.add(s1,10)"
   ]
  },
  {
   "cell_type": "code",
   "execution_count": 19,
   "id": "abeeb83d",
   "metadata": {},
   "outputs": [
    {
     "data": {
      "text/plain": [
       "{1, 2, 3, 4, 5, 6, 7, 8, 9, 10}"
      ]
     },
     "execution_count": 19,
     "metadata": {},
     "output_type": "execute_result"
    }
   ],
   "source": [
    "s1"
   ]
  },
  {
   "cell_type": "markdown",
   "id": "ffa20f4b",
   "metadata": {},
   "source": [
    "### Difference function"
   ]
  },
  {
   "cell_type": "code",
   "execution_count": 21,
   "id": "0cb00eca",
   "metadata": {},
   "outputs": [],
   "source": [
    "logging.info(\"This function will return the uncommon elements in the first set\")\n",
    "s2 = {3,4,5,6,11,12,13}\n",
    "logging.warning(\"I am declaring the second set\")"
   ]
  },
  {
   "cell_type": "code",
   "execution_count": 22,
   "id": "316e1d5a",
   "metadata": {},
   "outputs": [
    {
     "data": {
      "text/plain": [
       "{1, 2, 7, 8, 9, 10}"
      ]
     },
     "execution_count": 22,
     "metadata": {},
     "output_type": "execute_result"
    }
   ],
   "source": [
    "set.difference(s1,s2)"
   ]
  },
  {
   "cell_type": "markdown",
   "id": "b23a6a79",
   "metadata": {},
   "source": [
    "### Difference_update function"
   ]
  },
  {
   "cell_type": "code",
   "execution_count": 25,
   "id": "017680f4",
   "metadata": {},
   "outputs": [],
   "source": [
    "logging.info(\"This function will delete the uncommon elements in the first set\")\n",
    "s1 = {1,2,3,4,5,6}\n",
    "s2 = {2,3,4,12,11}\n",
    "set.difference_update(s1,s2)"
   ]
  },
  {
   "cell_type": "code",
   "execution_count": 26,
   "id": "16ba8d9e",
   "metadata": {},
   "outputs": [
    {
     "data": {
      "text/plain": [
       "{1, 5, 6}"
      ]
     },
     "execution_count": 26,
     "metadata": {},
     "output_type": "execute_result"
    }
   ],
   "source": [
    "s1"
   ]
  },
  {
   "cell_type": "code",
   "execution_count": 29,
   "id": "de20fa4f",
   "metadata": {},
   "outputs": [
    {
     "data": {
      "text/plain": [
       "{1, 2, 3, 4, 5, 6}"
      ]
     },
     "execution_count": 29,
     "metadata": {},
     "output_type": "execute_result"
    }
   ],
   "source": [
    "s1"
   ]
  },
  {
   "cell_type": "markdown",
   "id": "bfa45f1b",
   "metadata": {},
   "source": [
    " ### Discard function"
   ]
  },
  {
   "cell_type": "code",
   "execution_count": 30,
   "id": "04714b2e",
   "metadata": {},
   "outputs": [],
   "source": [
    "logging.info(\"It is used to delete the element that passes through the function\")\n",
    "logging.warning(\"If the passed element is not there in the set simply returns none\")\n",
    "set.discard(s1,4)"
   ]
  },
  {
   "cell_type": "code",
   "execution_count": 31,
   "id": "3f7279e7",
   "metadata": {},
   "outputs": [
    {
     "data": {
      "text/plain": [
       "{1, 2, 3, 5, 6}"
      ]
     },
     "execution_count": 31,
     "metadata": {},
     "output_type": "execute_result"
    }
   ],
   "source": [
    "s1"
   ]
  },
  {
   "cell_type": "code",
   "execution_count": 32,
   "id": "4b151ddf",
   "metadata": {},
   "outputs": [],
   "source": [
    "set.discard(s1,10)"
   ]
  },
  {
   "cell_type": "code",
   "execution_count": 33,
   "id": "44b90939",
   "metadata": {},
   "outputs": [],
   "source": [
    "logging.warning(\"It simply returns the none 10 is not there in the set\")"
   ]
  },
  {
   "cell_type": "markdown",
   "id": "4fd41f0a",
   "metadata": {},
   "source": [
    "### Intersection function"
   ]
  },
  {
   "cell_type": "code",
   "execution_count": 34,
   "id": "3e039462",
   "metadata": {},
   "outputs": [
    {
     "data": {
      "text/plain": [
       "{1, 2}"
      ]
     },
     "execution_count": 34,
     "metadata": {},
     "output_type": "execute_result"
    }
   ],
   "source": [
    "logging.info(\"It will give the common elements between two sets\")\n",
    "s1 = {1,2,4,3,7,6}\n",
    "s2 = {9,2,5,1,8,10}\n",
    "set.intersection(s1,s2)"
   ]
  },
  {
   "cell_type": "markdown",
   "id": "05023a46",
   "metadata": {},
   "source": [
    "### Intersection_update function"
   ]
  },
  {
   "cell_type": "code",
   "execution_count": 35,
   "id": "416d9006",
   "metadata": {},
   "outputs": [],
   "source": [
    "logging.info(\"It will delete the common elements in the first set\")\n",
    "s1 = {1,3,5,7,10,2,4,6}\n",
    "s2 = {2,4,6,8,1,3,5}\n",
    "set.intersection_update(s1,s2)"
   ]
  },
  {
   "cell_type": "code",
   "execution_count": 36,
   "id": "947971f2",
   "metadata": {},
   "outputs": [
    {
     "data": {
      "text/plain": [
       "{1, 2, 3, 4, 5, 6}"
      ]
     },
     "execution_count": 36,
     "metadata": {},
     "output_type": "execute_result"
    }
   ],
   "source": [
    "s1"
   ]
  },
  {
   "cell_type": "markdown",
   "id": "d1c1ebe8",
   "metadata": {},
   "source": [
    "### Isdisjoint function"
   ]
  },
  {
   "cell_type": "code",
   "execution_count": 37,
   "id": "4cbefbaa",
   "metadata": {},
   "outputs": [
    {
     "data": {
      "text/plain": [
       "True"
      ]
     },
     "execution_count": 37,
     "metadata": {},
     "output_type": "execute_result"
    }
   ],
   "source": [
    "logging.info(\"It will return True or False whether two sets are disjoint or not\")\n",
    "s1 = {1,2,3,4,5}\n",
    "s2 = {6,7,8,9,10}\n",
    "set.isdisjoint(s1,s2)"
   ]
  },
  {
   "cell_type": "markdown",
   "id": "96a2b880",
   "metadata": {},
   "source": [
    "### Issubset function"
   ]
  },
  {
   "cell_type": "code",
   "execution_count": 38,
   "id": "16dcaebc",
   "metadata": {},
   "outputs": [
    {
     "data": {
      "text/plain": [
       "True"
      ]
     },
     "execution_count": 38,
     "metadata": {},
     "output_type": "execute_result"
    }
   ],
   "source": [
    "logging.info(\"It will return True or False whether the first set is subset of second set\")\n",
    "s1 = {1,2,3}\n",
    "s2 = {1,2,3,4,5,6}\n",
    "set.issubset(s1,s2)"
   ]
  },
  {
   "cell_type": "markdown",
   "id": "46eefb4d",
   "metadata": {},
   "source": [
    "### Issuperset function"
   ]
  },
  {
   "cell_type": "code",
   "execution_count": 39,
   "id": "3cf21b24",
   "metadata": {},
   "outputs": [
    {
     "data": {
      "text/plain": [
       "True"
      ]
     },
     "execution_count": 39,
     "metadata": {},
     "output_type": "execute_result"
    }
   ],
   "source": [
    "logging.info(\"It will return true or false whether the first set is the superset of the second set\")\n",
    "s1 = {1,2,3,4,5,6}\n",
    "s2 = {3,4,5,6}\n",
    "set.issuperset(s1,s2)"
   ]
  },
  {
   "cell_type": "markdown",
   "id": "88ca5e0c",
   "metadata": {},
   "source": [
    "### Pop function"
   ]
  },
  {
   "cell_type": "code",
   "execution_count": 40,
   "id": "9a6f1491",
   "metadata": {},
   "outputs": [
    {
     "data": {
      "text/plain": [
       "1"
      ]
     },
     "execution_count": 40,
     "metadata": {},
     "output_type": "execute_result"
    }
   ],
   "source": [
    "logging.info(\"This will delete the top element(first element) of the set\")\n",
    "s = {1,2,3,4,5,6}\n",
    "set.pop(s)"
   ]
  },
  {
   "cell_type": "code",
   "execution_count": 41,
   "id": "b9703a23",
   "metadata": {},
   "outputs": [
    {
     "data": {
      "text/plain": [
       "{2, 3, 4, 5, 6}"
      ]
     },
     "execution_count": 41,
     "metadata": {},
     "output_type": "execute_result"
    }
   ],
   "source": [
    "s"
   ]
  },
  {
   "cell_type": "code",
   "execution_count": 42,
   "id": "2a58013b",
   "metadata": {},
   "outputs": [
    {
     "data": {
      "text/plain": [
       "2"
      ]
     },
     "execution_count": 42,
     "metadata": {},
     "output_type": "execute_result"
    }
   ],
   "source": [
    "set.pop(s)"
   ]
  },
  {
   "cell_type": "code",
   "execution_count": 43,
   "id": "7fcc4201",
   "metadata": {},
   "outputs": [
    {
     "data": {
      "text/plain": [
       "{3, 4, 5, 6}"
      ]
     },
     "execution_count": 43,
     "metadata": {},
     "output_type": "execute_result"
    }
   ],
   "source": [
    "s"
   ]
  },
  {
   "cell_type": "markdown",
   "id": "97dfbd21",
   "metadata": {},
   "source": [
    "### Remove function"
   ]
  },
  {
   "cell_type": "code",
   "execution_count": 44,
   "id": "eb5ceb18",
   "metadata": {},
   "outputs": [],
   "source": [
    "logging.info(\"This will remove the element that passes through the function\")\n",
    "s = {1,2,3,4,5,6,7,8}\n",
    "set.remove(s,8)"
   ]
  },
  {
   "cell_type": "code",
   "execution_count": 45,
   "id": "4050a5f6",
   "metadata": {},
   "outputs": [
    {
     "data": {
      "text/plain": [
       "{1, 2, 3, 4, 5, 6, 7}"
      ]
     },
     "execution_count": 45,
     "metadata": {},
     "output_type": "execute_result"
    }
   ],
   "source": [
    "s"
   ]
  },
  {
   "cell_type": "markdown",
   "id": "6696ab5f",
   "metadata": {},
   "source": [
    "### symmetric_difference function"
   ]
  },
  {
   "cell_type": "code",
   "execution_count": 46,
   "id": "07533127",
   "metadata": {},
   "outputs": [
    {
     "data": {
      "text/plain": [
       "{1, 2, 3, 7, 8, 9}"
      ]
     },
     "execution_count": 46,
     "metadata": {},
     "output_type": "execute_result"
    }
   ],
   "source": [
    "logging.info(\"It will return the elements uncommon from both sets\")\n",
    "s1 = {1,2,3,4,5,6}\n",
    "s2 = {4,5,6,7,8,9}\n",
    "set.symmetric_difference(s1,s2)"
   ]
  },
  {
   "cell_type": "markdown",
   "id": "1b77da48",
   "metadata": {},
   "source": [
    "### symmetric_difference_update function"
   ]
  },
  {
   "cell_type": "code",
   "execution_count": 47,
   "id": "4f7b40d3",
   "metadata": {},
   "outputs": [],
   "source": [
    "logging.info(\"It will delete the common elements from the two sets\")\n",
    "s1 = {1,2,3,4,5,6}\n",
    "s2 = {4,5,6,7,8,9}\n",
    "set.symmetric_difference_update(s1,s2)"
   ]
  },
  {
   "cell_type": "code",
   "execution_count": 48,
   "id": "08c2b3ac",
   "metadata": {},
   "outputs": [
    {
     "data": {
      "text/plain": [
       "{1, 2, 3, 7, 8, 9}"
      ]
     },
     "execution_count": 48,
     "metadata": {},
     "output_type": "execute_result"
    }
   ],
   "source": [
    "s1"
   ]
  },
  {
   "cell_type": "code",
   "execution_count": 49,
   "id": "69c9da27",
   "metadata": {},
   "outputs": [
    {
     "data": {
      "text/plain": [
       "{4, 5, 6, 7, 8, 9}"
      ]
     },
     "execution_count": 49,
     "metadata": {},
     "output_type": "execute_result"
    }
   ],
   "source": [
    "s2"
   ]
  },
  {
   "cell_type": "markdown",
   "id": "51849ebd",
   "metadata": {},
   "source": [
    "### Union function"
   ]
  },
  {
   "cell_type": "code",
   "execution_count": 50,
   "id": "7a73bd34",
   "metadata": {},
   "outputs": [
    {
     "data": {
      "text/plain": [
       "{1, 2, 3, 4, 5, 6, 7, 8, 9, 10}"
      ]
     },
     "execution_count": 50,
     "metadata": {},
     "output_type": "execute_result"
    }
   ],
   "source": [
    "logging.info(\"This will return the all elements from both sets\")\n",
    "s1 = {1,2,3,4,5}\n",
    "s2 = {6,7,8,9,10}\n",
    "set.union(s1,s2)"
   ]
  },
  {
   "cell_type": "markdown",
   "id": "aa28d57e",
   "metadata": {},
   "source": [
    "### Update function"
   ]
  },
  {
   "cell_type": "code",
   "execution_count": 51,
   "id": "3b9f9de2",
   "metadata": {},
   "outputs": [],
   "source": [
    "logging.info(\"This will add the new set to the existing set\")\n",
    "s1 = {1,2,3,4,5}\n",
    "s2 = {6,7,8,9,10}\n",
    "set.update(s1,s2)"
   ]
  },
  {
   "cell_type": "code",
   "execution_count": 52,
   "id": "2a229dd8",
   "metadata": {},
   "outputs": [
    {
     "data": {
      "text/plain": [
       "{1, 2, 3, 4, 5, 6, 7, 8, 9, 10}"
      ]
     },
     "execution_count": 52,
     "metadata": {},
     "output_type": "execute_result"
    }
   ],
   "source": [
    "s1"
   ]
  },
  {
   "cell_type": "code",
   "execution_count": 53,
   "id": "4cb6df3a",
   "metadata": {},
   "outputs": [
    {
     "data": {
      "text/plain": [
       "{6, 7, 8, 9, 10}"
      ]
     },
     "execution_count": 53,
     "metadata": {},
     "output_type": "execute_result"
    }
   ],
   "source": [
    "s2"
   ]
  },
  {
   "cell_type": "code",
   "execution_count": null,
   "id": "5ab33037",
   "metadata": {},
   "outputs": [],
   "source": []
  }
 ],
 "metadata": {
  "kernelspec": {
   "display_name": "Python 3",
   "language": "python",
   "name": "python3"
  },
  "language_info": {
   "codemirror_mode": {
    "name": "ipython",
    "version": 3
   },
   "file_extension": ".py",
   "mimetype": "text/x-python",
   "name": "python",
   "nbconvert_exporter": "python",
   "pygments_lexer": "ipython3",
   "version": "3.8.8"
  }
 },
 "nbformat": 4,
 "nbformat_minor": 5
}
