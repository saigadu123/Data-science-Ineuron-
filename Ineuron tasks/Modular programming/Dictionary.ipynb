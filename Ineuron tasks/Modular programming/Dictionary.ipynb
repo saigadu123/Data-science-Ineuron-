{
 "cells": [
  {
   "cell_type": "code",
   "execution_count": 1,
   "id": "356a85b2",
   "metadata": {},
   "outputs": [],
   "source": [
    "import logging"
   ]
  },
  {
   "cell_type": "code",
   "execution_count": 2,
   "id": "cc5065b5",
   "metadata": {},
   "outputs": [],
   "source": [
    "logging.basicConfig(filename=\"dictionary.log\",level=logging.INFO)"
   ]
  },
  {
   "cell_type": "code",
   "execution_count": 5,
   "id": "4c905301",
   "metadata": {},
   "outputs": [],
   "source": [
    "logging.info(\"Importing the Dict module which we were created\")\n",
    "from Dict_pack import Dict"
   ]
  },
  {
   "cell_type": "markdown",
   "id": "80b440a3",
   "metadata": {},
   "source": [
    "### Clear function"
   ]
  },
  {
   "cell_type": "code",
   "execution_count": 7,
   "id": "df148677",
   "metadata": {},
   "outputs": [],
   "source": [
    "logging.info(\"Declaring the dictionary\")\n",
    "dt = {\"a\":1,\"b\":2,\"c\":3,\"d\":4}"
   ]
  },
  {
   "cell_type": "code",
   "execution_count": 8,
   "id": "ff6cb5ff",
   "metadata": {},
   "outputs": [],
   "source": [
    "Dict.clear(dt)"
   ]
  },
  {
   "cell_type": "code",
   "execution_count": 9,
   "id": "03263979",
   "metadata": {},
   "outputs": [
    {
     "data": {
      "text/plain": [
       "{}"
      ]
     },
     "execution_count": 9,
     "metadata": {},
     "output_type": "execute_result"
    }
   ],
   "source": [
    "dt"
   ]
  },
  {
   "cell_type": "markdown",
   "id": "e76a8ce7",
   "metadata": {},
   "source": [
    "### Copy function"
   ]
  },
  {
   "cell_type": "code",
   "execution_count": 10,
   "id": "c16fd01e",
   "metadata": {},
   "outputs": [],
   "source": [
    "logging.warning(\"Again declaring the dictionary to get new dictionary\")\n",
    "dt = {\"a\":1,\"b\":2,\"c\":3,\"d\":4}"
   ]
  },
  {
   "cell_type": "code",
   "execution_count": 13,
   "id": "8a42088d",
   "metadata": {},
   "outputs": [],
   "source": [
    "logging.info(\"Assigning the copied to new variable\")\n",
    "copied_dict = Dict.copy(dt)"
   ]
  },
  {
   "cell_type": "code",
   "execution_count": 14,
   "id": "ee9c59d9",
   "metadata": {},
   "outputs": [
    {
     "data": {
      "text/plain": [
       "{'a': 1, 'b': 2, 'c': 3, 'd': 4}"
      ]
     },
     "execution_count": 14,
     "metadata": {},
     "output_type": "execute_result"
    }
   ],
   "source": [
    "copied_dict"
   ]
  },
  {
   "cell_type": "markdown",
   "id": "ac9a0a4e",
   "metadata": {},
   "source": [
    "### FromKeys function"
   ]
  },
  {
   "cell_type": "code",
   "execution_count": 15,
   "id": "7cee4d72",
   "metadata": {},
   "outputs": [],
   "source": [
    "keys = ('key1','key2','key3')\n",
    "logging.info(\"Declaring the keys\")"
   ]
  },
  {
   "cell_type": "code",
   "execution_count": 16,
   "id": "18d3822e",
   "metadata": {},
   "outputs": [],
   "source": [
    "value = 0\n",
    "logging.info(\"Assigning the value to the all keys\")"
   ]
  },
  {
   "cell_type": "code",
   "execution_count": 17,
   "id": "f7fd9e8c",
   "metadata": {},
   "outputs": [],
   "source": [
    "d = {}\n",
    "logging.info(\"Creating the new dictionary\")"
   ]
  },
  {
   "cell_type": "code",
   "execution_count": 18,
   "id": "c4fb140c",
   "metadata": {},
   "outputs": [
    {
     "data": {
      "text/plain": [
       "{'key1': 0, 'key2': 0, 'key3': 0}"
      ]
     },
     "execution_count": 18,
     "metadata": {},
     "output_type": "execute_result"
    }
   ],
   "source": [
    "Dict.fromkeys(d,keys,value)"
   ]
  },
  {
   "cell_type": "markdown",
   "id": "da24cc2b",
   "metadata": {},
   "source": [
    "### Get function"
   ]
  },
  {
   "cell_type": "code",
   "execution_count": 20,
   "id": "e4f108a9",
   "metadata": {},
   "outputs": [
    {
     "data": {
      "text/plain": [
       "2"
      ]
     },
     "execution_count": 20,
     "metadata": {},
     "output_type": "execute_result"
    }
   ],
   "source": [
    "logging.info(\"we get the value of the key that we passes through a function\")\n",
    "Dict.get(dt,\"b\")"
   ]
  },
  {
   "cell_type": "markdown",
   "id": "cce4f9c9",
   "metadata": {},
   "source": [
    "### Items function"
   ]
  },
  {
   "cell_type": "code",
   "execution_count": 21,
   "id": "a3e05c58",
   "metadata": {},
   "outputs": [
    {
     "data": {
      "text/plain": [
       "dict_items([('a', 1), ('b', 2), ('c', 3), ('d', 4)])"
      ]
     },
     "execution_count": 21,
     "metadata": {},
     "output_type": "execute_result"
    }
   ],
   "source": [
    "logging.info(\"It will return the all the keys and values\")\n",
    "Dict.items(dt)"
   ]
  },
  {
   "cell_type": "markdown",
   "id": "83d36d58",
   "metadata": {},
   "source": [
    "### Keys function"
   ]
  },
  {
   "cell_type": "code",
   "execution_count": 22,
   "id": "bd56947c",
   "metadata": {},
   "outputs": [
    {
     "data": {
      "text/plain": [
       "dict_keys(['a', 'b', 'c', 'd'])"
      ]
     },
     "execution_count": 22,
     "metadata": {},
     "output_type": "execute_result"
    }
   ],
   "source": [
    "logging.info(\"It will give the all keys present in the dictionary\")\n",
    "Dict.keys(dt)"
   ]
  },
  {
   "cell_type": "markdown",
   "id": "3867baf5",
   "metadata": {},
   "source": [
    "### POP function"
   ]
  },
  {
   "cell_type": "code",
   "execution_count": 25,
   "id": "e73e5ff3",
   "metadata": {},
   "outputs": [],
   "source": [
    "logging.info(\"It will delete the item which the key passes through the function\")"
   ]
  },
  {
   "cell_type": "code",
   "execution_count": 27,
   "id": "06c07add",
   "metadata": {},
   "outputs": [
    {
     "data": {
      "text/plain": [
       "3"
      ]
     },
     "execution_count": 27,
     "metadata": {},
     "output_type": "execute_result"
    }
   ],
   "source": [
    "Dict.pop(dt,\"c\")"
   ]
  },
  {
   "cell_type": "code",
   "execution_count": 28,
   "id": "2c55317a",
   "metadata": {},
   "outputs": [
    {
     "data": {
      "text/plain": [
       "{'a': 1, 'b': 2, 'd': 4}"
      ]
     },
     "execution_count": 28,
     "metadata": {},
     "output_type": "execute_result"
    }
   ],
   "source": [
    "dt"
   ]
  },
  {
   "cell_type": "markdown",
   "id": "24d71e2d",
   "metadata": {},
   "source": [
    "### popitem function"
   ]
  },
  {
   "cell_type": "code",
   "execution_count": 29,
   "id": "0e6cd441",
   "metadata": {},
   "outputs": [
    {
     "data": {
      "text/plain": [
       "('d', 4)"
      ]
     },
     "execution_count": 29,
     "metadata": {},
     "output_type": "execute_result"
    }
   ],
   "source": [
    "logging.info(\"It will delete the last item present in the dictionary\")\n",
    "Dict.popitem(dt)"
   ]
  },
  {
   "cell_type": "code",
   "execution_count": 30,
   "id": "8e06483a",
   "metadata": {},
   "outputs": [
    {
     "data": {
      "text/plain": [
       "{'a': 1, 'b': 2}"
      ]
     },
     "execution_count": 30,
     "metadata": {},
     "output_type": "execute_result"
    }
   ],
   "source": [
    "dt"
   ]
  },
  {
   "cell_type": "markdown",
   "id": "8ecde8d7",
   "metadata": {},
   "source": [
    "### setdefault function"
   ]
  },
  {
   "cell_type": "code",
   "execution_count": 34,
   "id": "37f9c20f",
   "metadata": {},
   "outputs": [
    {
     "data": {
      "text/plain": [
       "2"
      ]
     },
     "execution_count": 34,
     "metadata": {},
     "output_type": "execute_result"
    }
   ],
   "source": [
    "logging.info(\"It will get the value of a key that we passes in the function \")\n",
    "Dict.setdefault(dt,\"b\")"
   ]
  },
  {
   "cell_type": "code",
   "execution_count": 35,
   "id": "39917e6d",
   "metadata": {},
   "outputs": [
    {
     "data": {
      "text/plain": [
       "{'a': 1, 'b': 2, 'c': None}"
      ]
     },
     "execution_count": 35,
     "metadata": {},
     "output_type": "execute_result"
    }
   ],
   "source": [
    "dt"
   ]
  },
  {
   "cell_type": "code",
   "execution_count": 36,
   "id": "8abfd9b4",
   "metadata": {},
   "outputs": [],
   "source": [
    "logging.warning(\"If the key that passes u is not there in the dictionary simply it give None value\")"
   ]
  },
  {
   "cell_type": "markdown",
   "id": "fee4281f",
   "metadata": {},
   "source": [
    "### Update function"
   ]
  },
  {
   "cell_type": "code",
   "execution_count": 37,
   "id": "55bc787a",
   "metadata": {},
   "outputs": [],
   "source": [
    "logging.info(\"It is used to add new item in the dictionary\")\n",
    "item = {\"sai\":151}\n",
    "Dict.update(dt,item)\n",
    "logging.warning(\"U should pass the new item\")"
   ]
  },
  {
   "cell_type": "code",
   "execution_count": 38,
   "id": "290a90c4",
   "metadata": {},
   "outputs": [
    {
     "data": {
      "text/plain": [
       "{'a': 1, 'b': 2, 'c': None, 'sai': 151}"
      ]
     },
     "execution_count": 38,
     "metadata": {},
     "output_type": "execute_result"
    }
   ],
   "source": [
    "dt"
   ]
  },
  {
   "cell_type": "markdown",
   "id": "d46c5bb0",
   "metadata": {},
   "source": [
    "### Values function"
   ]
  },
  {
   "cell_type": "code",
   "execution_count": 39,
   "id": "2626bffc",
   "metadata": {},
   "outputs": [
    {
     "data": {
      "text/plain": [
       "dict_values([1, 2, None, 151])"
      ]
     },
     "execution_count": 39,
     "metadata": {},
     "output_type": "execute_result"
    }
   ],
   "source": [
    "logging.info(\"Values function returns the values present in the dictionary\")\n",
    "Dict.values(dt)"
   ]
  },
  {
   "cell_type": "code",
   "execution_count": null,
   "id": "88f6b5e5",
   "metadata": {},
   "outputs": [],
   "source": []
  }
 ],
 "metadata": {
  "kernelspec": {
   "display_name": "Python 3",
   "language": "python",
   "name": "python3"
  },
  "language_info": {
   "codemirror_mode": {
    "name": "ipython",
    "version": 3
   },
   "file_extension": ".py",
   "mimetype": "text/x-python",
   "name": "python",
   "nbconvert_exporter": "python",
   "pygments_lexer": "ipython3",
   "version": "3.8.8"
  }
 },
 "nbformat": 4,
 "nbformat_minor": 5
}
