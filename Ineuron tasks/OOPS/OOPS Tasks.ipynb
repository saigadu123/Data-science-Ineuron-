{
 "cells": [
  {
   "cell_type": "markdown",
   "id": "fe8b4e4b",
   "metadata": {},
   "source": [
    "### Create your own class for to achieve multiple,multilevel inheritance"
   ]
  },
  {
   "cell_type": "code",
   "execution_count": 1,
   "id": "0562b6d3",
   "metadata": {},
   "outputs": [],
   "source": [
    "import logging"
   ]
  },
  {
   "cell_type": "code",
   "execution_count": 2,
   "id": "a8c7dafe",
   "metadata": {},
   "outputs": [],
   "source": [
    "logging.basicConfig(filename=\"oops.log\",level=logging.DEBUG)"
   ]
  },
  {
   "cell_type": "code",
   "execution_count": 20,
   "id": "c84f5a11",
   "metadata": {},
   "outputs": [],
   "source": [
    "\n",
    "class add:\n",
    "    def __init__(self,a,b):\n",
    "        logging.info(\"It is taking input for the addition function\")\n",
    "        self.a = a\n",
    "        self.b = b\n",
    "    def addition(self):\n",
    "        logging.info(\"It will do addition operation\")\n",
    "        return self.a+self.b\n",
    "    \n",
    "class sub:\n",
    "    def __init__(self,c,d):\n",
    "        logging.info(\"It is taking input to do subtraction operation\")\n",
    "        self.c = c\n",
    "        self.d = d\n",
    "    def subtraction(self):\n",
    "        if self.c<self.d:\n",
    "            logging.error(\"This will raise the exception\")\n",
    "            raise Exception(\"C must be greater than d\")\n",
    "        return self.c-self.d\n",
    "    \n",
    "class operation(add,sub):\n",
    "    def __init__(self,a,b,c,d):\n",
    "        add.__init__(self,a,b)\n",
    "        sub.__init__(self,c,d)"
   ]
  },
  {
   "cell_type": "code",
   "execution_count": 27,
   "id": "333a78c2",
   "metadata": {},
   "outputs": [],
   "source": [
    "ob = operation(2,3,6,2)"
   ]
  },
  {
   "cell_type": "code",
   "execution_count": 28,
   "id": "8d407b39",
   "metadata": {},
   "outputs": [
    {
     "data": {
      "text/plain": [
       "5"
      ]
     },
     "execution_count": 28,
     "metadata": {},
     "output_type": "execute_result"
    }
   ],
   "source": [
    "ob.addition()"
   ]
  },
  {
   "cell_type": "code",
   "execution_count": 29,
   "id": "34f2e815",
   "metadata": {},
   "outputs": [
    {
     "data": {
      "text/plain": [
       "4"
      ]
     },
     "execution_count": 29,
     "metadata": {},
     "output_type": "execute_result"
    }
   ],
   "source": [
    "ob.subtraction()"
   ]
  },
  {
   "cell_type": "markdown",
   "id": "83890b7b",
   "metadata": {},
   "source": [
    "### Create your own class to represent polymorphism"
   ]
  },
  {
   "cell_type": "code",
   "execution_count": 30,
   "id": "b0af0c2f",
   "metadata": {},
   "outputs": [],
   "source": [
    "class multiplication:\n",
    "    def __init__(self,a,b):\n",
    "        self.a = a\n",
    "        self.b = b\n",
    "    def multiply(self):\n",
    "        return self.a*self.b"
   ]
  },
  {
   "cell_type": "code",
   "execution_count": 31,
   "id": "dbde82cd",
   "metadata": {},
   "outputs": [],
   "source": [
    "p = multiplication(2,3)"
   ]
  },
  {
   "cell_type": "code",
   "execution_count": 32,
   "id": "e37a4313",
   "metadata": {},
   "outputs": [
    {
     "data": {
      "text/plain": [
       "6"
      ]
     },
     "execution_count": 32,
     "metadata": {},
     "output_type": "execute_result"
    }
   ],
   "source": [
    "p.multiply()"
   ]
  },
  {
   "cell_type": "code",
   "execution_count": 33,
   "id": "12c5c5ae",
   "metadata": {},
   "outputs": [],
   "source": [
    "p2 = multiplication(2.5,3.2)"
   ]
  },
  {
   "cell_type": "code",
   "execution_count": 34,
   "id": "60f9e906",
   "metadata": {},
   "outputs": [
    {
     "data": {
      "text/plain": [
       "8.0"
      ]
     },
     "execution_count": 34,
     "metadata": {},
     "output_type": "execute_result"
    }
   ],
   "source": [
    "p2.multiply()"
   ]
  },
  {
   "cell_type": "markdown",
   "id": "86d81200",
   "metadata": {},
   "source": [
    "### Create your own class for custom Exception"
   ]
  },
  {
   "cell_type": "code",
   "execution_count": 35,
   "id": "d2fc6fec",
   "metadata": {},
   "outputs": [],
   "source": [
    "class custom(Exception):\n",
    "    def __init__(self,msg):\n",
    "        self.msg = msg\n",
    "    "
   ]
  },
  {
   "cell_type": "code",
   "execution_count": 36,
   "id": "aac8eee3",
   "metadata": {},
   "outputs": [],
   "source": [
    "class div:\n",
    "    def __init__(self,a,b):\n",
    "        self.a = a\n",
    "        self.b = b\n",
    "    def division(self):\n",
    "        try:\n",
    "            if self.b == 0:\n",
    "                raise(custom(\"Denominator should not be zero\"))\n",
    "            c = self.a/self.b\n",
    "        except custom as e:\n",
    "            print(e)\n",
    "            \n",
    "    "
   ]
  },
  {
   "cell_type": "code",
   "execution_count": 37,
   "id": "8aa908e0",
   "metadata": {},
   "outputs": [],
   "source": [
    "b = div(2,0)"
   ]
  },
  {
   "cell_type": "code",
   "execution_count": 38,
   "id": "5b6da02d",
   "metadata": {},
   "outputs": [
    {
     "name": "stdout",
     "output_type": "stream",
     "text": [
      "Denominator should not be zero\n"
     ]
    }
   ],
   "source": [
    "b.division()"
   ]
  },
  {
   "cell_type": "markdown",
   "id": "a1d1b4dc",
   "metadata": {},
   "source": []
  },
  {
   "cell_type": "code",
   "execution_count": null,
   "id": "467b87df",
   "metadata": {},
   "outputs": [],
   "source": []
  }
 ],
 "metadata": {
  "kernelspec": {
   "display_name": "Python 3",
   "language": "python",
   "name": "python3"
  },
  "language_info": {
   "codemirror_mode": {
    "name": "ipython",
    "version": 3
   },
   "file_extension": ".py",
   "mimetype": "text/x-python",
   "name": "python",
   "nbconvert_exporter": "python",
   "pygments_lexer": "ipython3",
   "version": "3.8.8"
  }
 },
 "nbformat": 4,
 "nbformat_minor": 5
}
